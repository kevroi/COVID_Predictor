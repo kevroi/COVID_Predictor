{
  "nbformat": 4,
  "nbformat_minor": 0,
  "metadata": {
    "colab": {
      "name": "sgwr64.ipynb",
      "provenance": [],
      "collapsed_sections": []
    },
    "kernelspec": {
      "name": "python3",
      "display_name": "Python 3"
    },
    "language_info": {
      "name": "python"
    }
  },
  "cells": [
    {
      "cell_type": "markdown",
      "metadata": {
        "id": "MUotg2BE4aIi"
      },
      "source": [
        "# Load Dataset and Important Libraries"
      ]
    },
    {
      "cell_type": "code",
      "metadata": {
        "id": "9YrKHQ3W4DoH"
      },
      "source": [
        "import pandas as pd\n",
        "import numpy as np\n",
        "from scipy import stats\n",
        "%matplotlib inline\n",
        "import matplotlib as mpl\n",
        "import matplotlib.pyplot as plt\n",
        "mpl.rc('axes', labelsize=14)\n",
        "mpl.rc('xtick', labelsize=12)\n",
        "mpl.rc('ytick', labelsize=12)"
      ],
      "execution_count": 1,
      "outputs": []
    },
    {
      "cell_type": "code",
      "metadata": {
        "id": "NMxb_1pIliPl"
      },
      "source": [
        "np.random.seed(42) # some functions like scipy.stats rely on this being consistent between runs"
      ],
      "execution_count": 2,
      "outputs": []
    },
    {
      "cell_type": "markdown",
      "metadata": {
        "id": "vHg6Qiu140u7"
      },
      "source": [
        "Load COVID data set."
      ]
    },
    {
      "cell_type": "code",
      "metadata": {
        "colab": {
          "base_uri": "https://localhost:8080/"
        },
        "id": "P0m34EZX428s",
        "outputId": "ba10eb85-602a-401e-9f1f-6d29dbfc4d9c"
      },
      "source": [
        "!wget https://github.com/beoutbreakprepared/nCoV2019/blob/master/latest_data/latestdata.tar.gz?raw=true"
      ],
      "execution_count": 3,
      "outputs": [
        {
          "output_type": "stream",
          "text": [
            "--2021-05-11 22:11:41--  https://github.com/beoutbreakprepared/nCoV2019/blob/master/latest_data/latestdata.tar.gz?raw=true\n",
            "Resolving github.com (github.com)... 192.30.255.112\n",
            "Connecting to github.com (github.com)|192.30.255.112|:443... connected.\n",
            "HTTP request sent, awaiting response... 302 Found\n",
            "Location: https://github.com/beoutbreakprepared/nCoV2019/raw/master/latest_data/latestdata.tar.gz [following]\n",
            "--2021-05-11 22:11:41--  https://github.com/beoutbreakprepared/nCoV2019/raw/master/latest_data/latestdata.tar.gz\n",
            "Reusing existing connection to github.com:443.\n",
            "HTTP request sent, awaiting response... 302 Found\n",
            "Location: https://raw.githubusercontent.com/beoutbreakprepared/nCoV2019/master/latest_data/latestdata.tar.gz [following]\n",
            "--2021-05-11 22:11:41--  https://raw.githubusercontent.com/beoutbreakprepared/nCoV2019/master/latest_data/latestdata.tar.gz\n",
            "Resolving raw.githubusercontent.com (raw.githubusercontent.com)... 185.199.110.133, 185.199.109.133, 185.199.108.133, ...\n",
            "Connecting to raw.githubusercontent.com (raw.githubusercontent.com)|185.199.110.133|:443... connected.\n",
            "HTTP request sent, awaiting response... 200 OK\n",
            "Length: 16036070 (15M) [application/octet-stream]\n",
            "Saving to: ‘latestdata.tar.gz?raw=true.1’\n",
            "\n",
            "latestdata.tar.gz?r 100%[===================>]  15.29M  63.5MB/s    in 0.2s    \n",
            "\n",
            "2021-05-11 22:11:42 (63.5 MB/s) - ‘latestdata.tar.gz?raw=true.1’ saved [16036070/16036070]\n",
            "\n"
          ],
          "name": "stdout"
        }
      ]
    },
    {
      "cell_type": "markdown",
      "metadata": {
        "id": "QBEynZ0W5IgF"
      },
      "source": [
        "Unzip the file"
      ]
    },
    {
      "cell_type": "code",
      "metadata": {
        "colab": {
          "base_uri": "https://localhost:8080/"
        },
        "id": "VVUrvyh249s1",
        "outputId": "6dd8a4ed-29fd-4b07-f849-21dc78eea4e2"
      },
      "source": [
        "!tar -xvf latestdata.tar.gz?raw=true"
      ],
      "execution_count": 4,
      "outputs": [
        {
          "output_type": "stream",
          "text": [
            "latestdata.csv\n"
          ],
          "name": "stdout"
        }
      ]
    },
    {
      "cell_type": "markdown",
      "metadata": {
        "id": "fK8dv6Vf5NjN"
      },
      "source": [
        "When reasing in the .csv dataset, set  `low memory` to `False` so Pandas does not guess a data type and raise errors."
      ]
    },
    {
      "cell_type": "code",
      "metadata": {
        "id": "mnJjYetB5MDt"
      },
      "source": [
        "df = pd.read_csv('latestdata.csv', low_memory=False)\n",
        "original_df = df.copy()"
      ],
      "execution_count": 5,
      "outputs": []
    },
    {
      "cell_type": "code",
      "metadata": {
        "colab": {
          "base_uri": "https://localhost:8080/",
          "height": 394
        },
        "id": "fgqJ3Q-F5ftd",
        "outputId": "5d67092e-ecfe-4d74-faa9-ad5115bdfa64"
      },
      "source": [
        "df.head()"
      ],
      "execution_count": 6,
      "outputs": [
        {
          "output_type": "execute_result",
          "data": {
            "text/html": [
              "<div>\n",
              "<style scoped>\n",
              "    .dataframe tbody tr th:only-of-type {\n",
              "        vertical-align: middle;\n",
              "    }\n",
              "\n",
              "    .dataframe tbody tr th {\n",
              "        vertical-align: top;\n",
              "    }\n",
              "\n",
              "    .dataframe thead th {\n",
              "        text-align: right;\n",
              "    }\n",
              "</style>\n",
              "<table border=\"1\" class=\"dataframe\">\n",
              "  <thead>\n",
              "    <tr style=\"text-align: right;\">\n",
              "      <th></th>\n",
              "      <th>ID</th>\n",
              "      <th>age</th>\n",
              "      <th>sex</th>\n",
              "      <th>city</th>\n",
              "      <th>province</th>\n",
              "      <th>country</th>\n",
              "      <th>latitude</th>\n",
              "      <th>longitude</th>\n",
              "      <th>geo_resolution</th>\n",
              "      <th>date_onset_symptoms</th>\n",
              "      <th>date_admission_hospital</th>\n",
              "      <th>date_confirmation</th>\n",
              "      <th>symptoms</th>\n",
              "      <th>lives_in_Wuhan</th>\n",
              "      <th>travel_history_dates</th>\n",
              "      <th>travel_history_location</th>\n",
              "      <th>reported_market_exposure</th>\n",
              "      <th>additional_information</th>\n",
              "      <th>chronic_disease_binary</th>\n",
              "      <th>chronic_disease</th>\n",
              "      <th>source</th>\n",
              "      <th>sequence_available</th>\n",
              "      <th>outcome</th>\n",
              "      <th>date_death_or_discharge</th>\n",
              "      <th>notes_for_discussion</th>\n",
              "      <th>location</th>\n",
              "      <th>admin3</th>\n",
              "      <th>admin2</th>\n",
              "      <th>admin1</th>\n",
              "      <th>country_new</th>\n",
              "      <th>admin_id</th>\n",
              "      <th>data_moderator_initials</th>\n",
              "      <th>travel_history_binary</th>\n",
              "    </tr>\n",
              "  </thead>\n",
              "  <tbody>\n",
              "    <tr>\n",
              "      <th>0</th>\n",
              "      <td>000-1-1</td>\n",
              "      <td>NaN</td>\n",
              "      <td>male</td>\n",
              "      <td>Shek Lei</td>\n",
              "      <td>Hong Kong</td>\n",
              "      <td>China</td>\n",
              "      <td>22.365019</td>\n",
              "      <td>114.133808</td>\n",
              "      <td>point</td>\n",
              "      <td>NaN</td>\n",
              "      <td>NaN</td>\n",
              "      <td>14.02.2020</td>\n",
              "      <td>NaN</td>\n",
              "      <td>NaN</td>\n",
              "      <td>22.01.2020</td>\n",
              "      <td>China</td>\n",
              "      <td>NaN</td>\n",
              "      <td>Case 55; mainland China travel via the Lok Ma ...</td>\n",
              "      <td>False</td>\n",
              "      <td>NaN</td>\n",
              "      <td>https://www.scmp.com/news/hong-kong/health-env...</td>\n",
              "      <td>NaN</td>\n",
              "      <td>critical condition, intubated as of 14.02.2020</td>\n",
              "      <td>NaN</td>\n",
              "      <td>NaN</td>\n",
              "      <td>Shek Lei</td>\n",
              "      <td>NaN</td>\n",
              "      <td>NaN</td>\n",
              "      <td>Hong Kong</td>\n",
              "      <td>China</td>\n",
              "      <td>8029.0</td>\n",
              "      <td>NaN</td>\n",
              "      <td>NaN</td>\n",
              "    </tr>\n",
              "    <tr>\n",
              "      <th>1</th>\n",
              "      <td>000-1-10</td>\n",
              "      <td>78</td>\n",
              "      <td>male</td>\n",
              "      <td>Vo Euganeo</td>\n",
              "      <td>Veneto</td>\n",
              "      <td>Italy</td>\n",
              "      <td>45.297748</td>\n",
              "      <td>11.658382</td>\n",
              "      <td>point</td>\n",
              "      <td>NaN</td>\n",
              "      <td>NaN</td>\n",
              "      <td>21.02.2020</td>\n",
              "      <td>NaN</td>\n",
              "      <td>NaN</td>\n",
              "      <td>NaN</td>\n",
              "      <td>NaN</td>\n",
              "      <td>NaN</td>\n",
              "      <td>Hospitalized on 12.02.2020 for other reasons</td>\n",
              "      <td>False</td>\n",
              "      <td>NaN</td>\n",
              "      <td>https://www.corriere.it/cronache/20_febbraio_2...</td>\n",
              "      <td>NaN</td>\n",
              "      <td>death</td>\n",
              "      <td>22.02.2020</td>\n",
              "      <td>NaN</td>\n",
              "      <td>Vo' Euganeo</td>\n",
              "      <td>NaN</td>\n",
              "      <td>NaN</td>\n",
              "      <td>Veneto</td>\n",
              "      <td>Italy</td>\n",
              "      <td>8954.0</td>\n",
              "      <td>NaN</td>\n",
              "      <td>NaN</td>\n",
              "    </tr>\n",
              "    <tr>\n",
              "      <th>2</th>\n",
              "      <td>000-1-100</td>\n",
              "      <td>61</td>\n",
              "      <td>female</td>\n",
              "      <td>NaN</td>\n",
              "      <td>NaN</td>\n",
              "      <td>Singapore</td>\n",
              "      <td>1.353460</td>\n",
              "      <td>103.815100</td>\n",
              "      <td>admin0</td>\n",
              "      <td>NaN</td>\n",
              "      <td>NaN</td>\n",
              "      <td>14.02.2020</td>\n",
              "      <td>NaN</td>\n",
              "      <td>NaN</td>\n",
              "      <td>NaN</td>\n",
              "      <td>NaN</td>\n",
              "      <td>NaN</td>\n",
              "      <td>Case 65; family member of Case 50, a DBS emplo...</td>\n",
              "      <td>False</td>\n",
              "      <td>NaN</td>\n",
              "      <td>https://www.channelnewsasia.com/news/singapore...</td>\n",
              "      <td>NaN</td>\n",
              "      <td>discharge</td>\n",
              "      <td>17.02.2020</td>\n",
              "      <td>NaN</td>\n",
              "      <td>NaN</td>\n",
              "      <td>NaN</td>\n",
              "      <td>NaN</td>\n",
              "      <td>NaN</td>\n",
              "      <td>Singapore</td>\n",
              "      <td>200.0</td>\n",
              "      <td>NaN</td>\n",
              "      <td>NaN</td>\n",
              "    </tr>\n",
              "    <tr>\n",
              "      <th>3</th>\n",
              "      <td>000-1-1000</td>\n",
              "      <td>NaN</td>\n",
              "      <td>NaN</td>\n",
              "      <td>Zhengzhou City</td>\n",
              "      <td>Henan</td>\n",
              "      <td>China</td>\n",
              "      <td>34.629310</td>\n",
              "      <td>113.468000</td>\n",
              "      <td>admin2</td>\n",
              "      <td>NaN</td>\n",
              "      <td>NaN</td>\n",
              "      <td>26.01.2020</td>\n",
              "      <td>NaN</td>\n",
              "      <td>NaN</td>\n",
              "      <td>NaN</td>\n",
              "      <td>NaN</td>\n",
              "      <td>NaN</td>\n",
              "      <td>NaN</td>\n",
              "      <td>False</td>\n",
              "      <td>NaN</td>\n",
              "      <td>https://news.163.com/special/epidemic/?spssid=...</td>\n",
              "      <td>NaN</td>\n",
              "      <td>NaN</td>\n",
              "      <td>NaN</td>\n",
              "      <td>NaN</td>\n",
              "      <td>NaN</td>\n",
              "      <td>NaN</td>\n",
              "      <td>Zhengzhou City</td>\n",
              "      <td>Henan</td>\n",
              "      <td>China</td>\n",
              "      <td>10091.0</td>\n",
              "      <td>NaN</td>\n",
              "      <td>NaN</td>\n",
              "    </tr>\n",
              "    <tr>\n",
              "      <th>4</th>\n",
              "      <td>000-1-10000</td>\n",
              "      <td>NaN</td>\n",
              "      <td>NaN</td>\n",
              "      <td>Pingxiang City</td>\n",
              "      <td>Jiangxi</td>\n",
              "      <td>China</td>\n",
              "      <td>27.513560</td>\n",
              "      <td>113.902900</td>\n",
              "      <td>admin2</td>\n",
              "      <td>NaN</td>\n",
              "      <td>NaN</td>\n",
              "      <td>14.02.2020</td>\n",
              "      <td>NaN</td>\n",
              "      <td>NaN</td>\n",
              "      <td>NaN</td>\n",
              "      <td>NaN</td>\n",
              "      <td>NaN</td>\n",
              "      <td>NaN</td>\n",
              "      <td>False</td>\n",
              "      <td>NaN</td>\n",
              "      <td>http://hc.jiangxi.gov.cn/doc/2020/02/15/138898...</td>\n",
              "      <td>NaN</td>\n",
              "      <td>NaN</td>\n",
              "      <td>NaN</td>\n",
              "      <td>NaN</td>\n",
              "      <td>NaN</td>\n",
              "      <td>NaN</td>\n",
              "      <td>Pingxiang City</td>\n",
              "      <td>Jiangxi</td>\n",
              "      <td>China</td>\n",
              "      <td>7060.0</td>\n",
              "      <td>NaN</td>\n",
              "      <td>NaN</td>\n",
              "    </tr>\n",
              "  </tbody>\n",
              "</table>\n",
              "</div>"
            ],
            "text/plain": [
              "            ID  age  ... data_moderator_initials travel_history_binary\n",
              "0      000-1-1  NaN  ...                     NaN                   NaN\n",
              "1     000-1-10   78  ...                     NaN                   NaN\n",
              "2    000-1-100   61  ...                     NaN                   NaN\n",
              "3   000-1-1000  NaN  ...                     NaN                   NaN\n",
              "4  000-1-10000  NaN  ...                     NaN                   NaN\n",
              "\n",
              "[5 rows x 33 columns]"
            ]
          },
          "metadata": {
            "tags": []
          },
          "execution_count": 6
        }
      ]
    },
    {
      "cell_type": "code",
      "metadata": {
        "colab": {
          "base_uri": "https://localhost:8080/"
        },
        "id": "khNNR2Sv5oAm",
        "outputId": "e6fd19c8-ec83-486c-84e1-871c48e1b1a8"
      },
      "source": [
        "df.info()"
      ],
      "execution_count": 7,
      "outputs": [
        {
          "output_type": "stream",
          "text": [
            "<class 'pandas.core.frame.DataFrame'>\n",
            "RangeIndex: 2676311 entries, 0 to 2676310\n",
            "Data columns (total 33 columns):\n",
            " #   Column                    Dtype  \n",
            "---  ------                    -----  \n",
            " 0   ID                        object \n",
            " 1   age                       object \n",
            " 2   sex                       object \n",
            " 3   city                      object \n",
            " 4   province                  object \n",
            " 5   country                   object \n",
            " 6   latitude                  float64\n",
            " 7   longitude                 float64\n",
            " 8   geo_resolution            object \n",
            " 9   date_onset_symptoms       object \n",
            " 10  date_admission_hospital   object \n",
            " 11  date_confirmation         object \n",
            " 12  symptoms                  object \n",
            " 13  lives_in_Wuhan            object \n",
            " 14  travel_history_dates      object \n",
            " 15  travel_history_location   object \n",
            " 16  reported_market_exposure  object \n",
            " 17  additional_information    object \n",
            " 18  chronic_disease_binary    bool   \n",
            " 19  chronic_disease           object \n",
            " 20  source                    object \n",
            " 21  sequence_available        object \n",
            " 22  outcome                   object \n",
            " 23  date_death_or_discharge   object \n",
            " 24  notes_for_discussion      object \n",
            " 25  location                  object \n",
            " 26  admin3                    object \n",
            " 27  admin2                    object \n",
            " 28  admin1                    object \n",
            " 29  country_new               object \n",
            " 30  admin_id                  float64\n",
            " 31  data_moderator_initials   object \n",
            " 32  travel_history_binary     object \n",
            "dtypes: bool(1), float64(3), object(29)\n",
            "memory usage: 655.9+ MB\n"
          ],
          "name": "stdout"
        }
      ]
    },
    {
      "cell_type": "code",
      "metadata": {
        "colab": {
          "base_uri": "https://localhost:8080/"
        },
        "id": "j-STa46p5t3z",
        "outputId": "6d4b313b-3a1e-409d-8cf0-d6a8bcab0399"
      },
      "source": [
        "df.count()"
      ],
      "execution_count": 8,
      "outputs": [
        {
          "output_type": "execute_result",
          "data": {
            "text/plain": [
              "ID                          2676311\n",
              "age                          578018\n",
              "sex                          580157\n",
              "city                        1698630\n",
              "province                    2223647\n",
              "country                     2676196\n",
              "latitude                    2676250\n",
              "longitude                   2676250\n",
              "geo_resolution              2676250\n",
              "date_onset_symptoms          261599\n",
              "date_admission_hospital      116211\n",
              "date_confirmation           2567822\n",
              "symptoms                       2052\n",
              "lives_in_Wuhan                 4338\n",
              "travel_history_dates           2611\n",
              "travel_history_location        9222\n",
              "reported_market_exposure       1069\n",
              "additional_information        45855\n",
              "chronic_disease_binary      2676311\n",
              "chronic_disease                 215\n",
              "source                      2109347\n",
              "sequence_available               12\n",
              "outcome                      307382\n",
              "date_death_or_discharge        3148\n",
              "notes_for_discussion            640\n",
              "location                      13376\n",
              "admin3                        80434\n",
              "admin2                       826054\n",
              "admin1                      1257558\n",
              "country_new                 2645758\n",
              "admin_id                    2676250\n",
              "data_moderator_initials     1742983\n",
              "travel_history_binary       2610732\n",
              "dtype: int64"
            ]
          },
          "metadata": {
            "tags": []
          },
          "execution_count": 8
        }
      ]
    },
    {
      "cell_type": "markdown",
      "metadata": {
        "id": "jZ8i6l8l5y9q"
      },
      "source": [
        "Features worth noting in terms of relevance to outcome prediction and availibility in the data set:\n",
        "\n",
        "\n",
        "1.   `longitude`, `latitude`, `geo_reolution`\n",
        "2.   `date onset` and `admission`\n",
        "3. `date_confirmation`\n",
        "4. `travel_history_binary`\n",
        "5. `chronic_disease_binary`\n",
        "6. `outcome`\n",
        "\n"
      ]
    },
    {
      "cell_type": "markdown",
      "metadata": {
        "id": "Hz4tiKLI6A4q"
      },
      "source": [
        "0 rows are completely filled."
      ]
    },
    {
      "cell_type": "markdown",
      "metadata": {
        "id": "IhdFIQ4T6Dk6"
      },
      "source": [
        "# Data Cleaning\n",
        "Begin by fixing the data types of the features we intend to use. This involves dropping rows without the neccessary features filled in."
      ]
    },
    {
      "cell_type": "code",
      "metadata": {
        "id": "qk8urQ1C98wd"
      },
      "source": [
        "df.dropna(subset=['age', 'sex', 'latitude', 'longitude', 'chronic_disease_binary', 'travel_history_binary', 'outcome'], inplace=True)"
      ],
      "execution_count": 8,
      "outputs": []
    },
    {
      "cell_type": "code",
      "metadata": {
        "id": "qWQnyAa-6aJJ"
      },
      "source": [
        "# convert age to floats first\n",
        "# coerce to force any enrties that are age ranges to NaN\n",
        "df['age'] = pd.to_numeric(df['age'], errors='coerce')\n",
        "\n",
        "#remove all NaNs\n",
        "df.dropna(subset=['age'], inplace=True)\n",
        "df['age'] = df['age'].astype(int)"
      ],
      "execution_count": 9,
      "outputs": []
    },
    {
      "cell_type": "code",
      "metadata": {
        "id": "E2_nsWPp9vDW"
      },
      "source": [
        "df.dropna(subset=['travel_history_binary'], inplace=True)"
      ],
      "execution_count": 10,
      "outputs": []
    },
    {
      "cell_type": "code",
      "metadata": {
        "id": "Chp46Vku9wjm"
      },
      "source": [
        "thb_dict = {\n",
        "    True: True,\n",
        "    False: False\n",
        "}\n",
        "\n",
        "df['travel_history_binary'] = df['travel_history_binary'].map(thb_dict)"
      ],
      "execution_count": 11,
      "outputs": []
    },
    {
      "cell_type": "markdown",
      "metadata": {
        "id": "APCJs0wn-ij-"
      },
      "source": [
        "Convert `sex` to binary for correlation purposes."
      ]
    },
    {
      "cell_type": "code",
      "metadata": {
        "id": "hEkw4nfw-sw-"
      },
      "source": [
        "sexdict = {\n",
        "    'male': True,\n",
        "    'female': False\n",
        "}\n",
        "\n",
        "df['sex'] = df['sex'].map(sexdict)"
      ],
      "execution_count": 12,
      "outputs": []
    },
    {
      "cell_type": "markdown",
      "metadata": {
        "id": "rhezgaAL7gDe"
      },
      "source": [
        "Convert `outcome` label to boolean."
      ]
    },
    {
      "cell_type": "code",
      "metadata": {
        "colab": {
          "base_uri": "https://localhost:8080/"
        },
        "id": "pwEOnKAo9fD7",
        "outputId": "0b2c4e83-2095-4b2e-fbb4-a354269d5319"
      },
      "source": [
        "df['outcome'].unique()"
      ],
      "execution_count": 13,
      "outputs": [
        {
          "output_type": "execute_result",
          "data": {
            "text/plain": [
              "array(['Alive', 'Dead', 'Recovered', 'Stable', 'Died', 'Deceased',\n",
              "       'stable condition', 'Under treatment', 'Receiving Treatment',\n",
              "       'severe illness', 'dead', 'critical condition', 'recovered',\n",
              "       'died', 'discharge', 'discharged', 'stable',\n",
              "       'released from quarantine', 'death', 'Hospitalized', 'Death'],\n",
              "      dtype=object)"
            ]
          },
          "metadata": {
            "tags": []
          },
          "execution_count": 13
        }
      ]
    },
    {
      "cell_type": "code",
      "metadata": {
        "id": "XqlOCL3i9i82"
      },
      "source": [
        "outdict = {'death': False,\n",
        "           'discharge': True,\n",
        "           'discharged': True,\n",
        "           'Discharged': True,\n",
        "           'recovered': True,\n",
        "           'released from quarantine': True,\n",
        "           'stable': True,\n",
        "           'Death': False,\n",
        "           'died': False,\n",
        "           'Alive': True,\n",
        "           'Dead': False,\n",
        "           'Recovered': True,\n",
        "           'Stable': True,\n",
        "           'Died': False,\n",
        "           'Deceased': False,\n",
        "           'stable condition': True,\n",
        "           'Under treatment': True,\n",
        "           'Receiving Treatment': True,\n",
        "           'severe illness': True,\n",
        "           'dead': False,\n",
        "           'critical condition': True,\n",
        "           'Hospitalized': True}\n",
        "\n",
        "df['outcome'] = df['outcome'].map(outdict)"
      ],
      "execution_count": 14,
      "outputs": []
    },
    {
      "cell_type": "markdown",
      "metadata": {
        "id": "_6KW3r9BZbRE"
      },
      "source": [
        "Explore `date_confirmation`\n",
        "\n",
        "Did not end up using this feature in final model."
      ]
    },
    {
      "cell_type": "code",
      "metadata": {
        "id": "j3ocTujTZoGv"
      },
      "source": [
        "\n",
        "df['date_confirmation'] = pd.to_datetime(df['date_confirmation'],\n",
        "                                         format='%d.%m.%Y',\n",
        "                                         errors='coerce')"
      ],
      "execution_count": 15,
      "outputs": []
    },
    {
      "cell_type": "code",
      "metadata": {
        "colab": {
          "base_uri": "https://localhost:8080/"
        },
        "id": "VLRDit32ZsBD",
        "outputId": "51a1e575-44a5-45fc-bd5f-33e90dd97cf5"
      },
      "source": [
        "print(df['date_confirmation'].dtype)\n",
        "df['date_confirmation']"
      ],
      "execution_count": 16,
      "outputs": [
        {
          "output_type": "stream",
          "text": [
            "datetime64[ns]\n"
          ],
          "name": "stdout"
        },
        {
          "output_type": "execute_result",
          "data": {
            "text/plain": [
              "66859    2020-03-20\n",
              "66870    2020-03-21\n",
              "66892    2020-03-24\n",
              "66903    2020-03-24\n",
              "66915    2020-03-24\n",
              "            ...    \n",
              "575226   2020-02-28\n",
              "583617   2020-03-11\n",
              "614705   2020-04-05\n",
              "621357   2020-03-13\n",
              "672674   2020-03-10\n",
              "Name: date_confirmation, Length: 33314, dtype: datetime64[ns]"
            ]
          },
          "metadata": {
            "tags": []
          },
          "execution_count": 16
        }
      ]
    },
    {
      "cell_type": "code",
      "metadata": {
        "colab": {
          "base_uri": "https://localhost:8080/"
        },
        "id": "G9DrpDhHZ2Wm",
        "outputId": "2541e060-b2dd-411b-a4b9-8b13929c4843"
      },
      "source": [
        "print(df['date_confirmation'].min())\n",
        "print(df['date_confirmation'].max())"
      ],
      "execution_count": 17,
      "outputs": [
        {
          "output_type": "stream",
          "text": [
            "2020-01-06 00:00:00\n",
            "2020-06-03 00:00:00\n"
          ],
          "name": "stdout"
        }
      ]
    },
    {
      "cell_type": "code",
      "metadata": {
        "colab": {
          "base_uri": "https://localhost:8080/"
        },
        "id": "l_P9pu0-Z_qV",
        "outputId": "9b25c084-bdf8-4ed6-936d-369c5cc17c14"
      },
      "source": [
        "df['date_confirmation'].dt.month.unique()"
      ],
      "execution_count": 18,
      "outputs": [
        {
          "output_type": "execute_result",
          "data": {
            "text/plain": [
              "array([ 3., nan,  4.,  5.,  2.,  6.,  1.])"
            ]
          },
          "metadata": {
            "tags": []
          },
          "execution_count": 18
        }
      ]
    },
    {
      "cell_type": "markdown",
      "metadata": {
        "id": "gTJ_YxhGaCpW"
      },
      "source": [
        "`date_confirmation` did not have year long data."
      ]
    },
    {
      "cell_type": "markdown",
      "metadata": {
        "id": "iC75v0PK-TLm"
      },
      "source": [
        "# Data Insights and Statistics"
      ]
    },
    {
      "cell_type": "code",
      "metadata": {
        "colab": {
          "base_uri": "https://localhost:8080/",
          "height": 683
        },
        "id": "Vcz9SEBkaKxW",
        "outputId": "9daafc0d-a6b4-4b9e-eae7-9a2060d33a18"
      },
      "source": [
        "from pandas.plotting import scatter_matrix\n",
        "attributes = ['age', 'latitude', 'longitude']\n",
        "scatter_matrix(df[attributes], figsize=(12, 8))"
      ],
      "execution_count": 19,
      "outputs": [
        {
          "output_type": "execute_result",
          "data": {
            "text/plain": [
              "array([[<matplotlib.axes._subplots.AxesSubplot object at 0x7fbe1a584bd0>,\n",
              "        <matplotlib.axes._subplots.AxesSubplot object at 0x7fbe1a1ec2d0>,\n",
              "        <matplotlib.axes._subplots.AxesSubplot object at 0x7fbe1a1a1990>],\n",
              "       [<matplotlib.axes._subplots.AxesSubplot object at 0x7fbe1a159fd0>,\n",
              "        <matplotlib.axes._subplots.AxesSubplot object at 0x7fbe1a1196d0>,\n",
              "        <matplotlib.axes._subplots.AxesSubplot object at 0x7fbe1a14fd50>],\n",
              "       [<matplotlib.axes._subplots.AxesSubplot object at 0x7fbe1a10f490>,\n",
              "        <matplotlib.axes._subplots.AxesSubplot object at 0x7fbe1a0c5a50>,\n",
              "        <matplotlib.axes._subplots.AxesSubplot object at 0x7fbe1a0c5a90>]],\n",
              "      dtype=object)"
            ]
          },
          "metadata": {
            "tags": []
          },
          "execution_count": 19
        },
        {
          "output_type": "display_data",
          "data": {
            "image/png": "[encoded data removed]",
            "text/plain": [
              "<Figure size 864x576 with 9 Axes>"
            ]
          },
          "metadata": {
            "tags": [],
            "needs_background": "light"
          }
        }
      ]
    },
    {
      "cell_type": "markdown",
      "metadata": {
        "id": "ftpAfNIG-4Ff"
      },
      "source": [
        "Analyse Pearson's correlation coefficient."
      ]
    },
    {
      "cell_type": "code",
      "metadata": {
        "colab": {
          "base_uri": "https://localhost:8080/",
          "height": 297
        },
        "id": "Je4gkS-q-Uxm",
        "outputId": "8d94d7b0-719f-4117-be90-3854d536ebe4"
      },
      "source": [
        "df.corr(method='pearson')"
      ],
      "execution_count": 20,
      "outputs": [
        {
          "output_type": "execute_result",
          "data": {
            "text/html": [
              "<div>\n",
              "<style scoped>\n",
              "    .dataframe tbody tr th:only-of-type {\n",
              "        vertical-align: middle;\n",
              "    }\n",
              "\n",
              "    .dataframe tbody tr th {\n",
              "        vertical-align: top;\n",
              "    }\n",
              "\n",
              "    .dataframe thead th {\n",
              "        text-align: right;\n",
              "    }\n",
              "</style>\n",
              "<table border=\"1\" class=\"dataframe\">\n",
              "  <thead>\n",
              "    <tr style=\"text-align: right;\">\n",
              "      <th></th>\n",
              "      <th>age</th>\n",
              "      <th>sex</th>\n",
              "      <th>latitude</th>\n",
              "      <th>longitude</th>\n",
              "      <th>chronic_disease_binary</th>\n",
              "      <th>outcome</th>\n",
              "      <th>admin_id</th>\n",
              "      <th>travel_history_binary</th>\n",
              "    </tr>\n",
              "  </thead>\n",
              "  <tbody>\n",
              "    <tr>\n",
              "      <th>age</th>\n",
              "      <td>1.000000</td>\n",
              "      <td>0.007756</td>\n",
              "      <td>-0.106853</td>\n",
              "      <td>0.165195</td>\n",
              "      <td>0.092190</td>\n",
              "      <td>-0.271602</td>\n",
              "      <td>-0.203519</td>\n",
              "      <td>0.046321</td>\n",
              "    </tr>\n",
              "    <tr>\n",
              "      <th>sex</th>\n",
              "      <td>0.007756</td>\n",
              "      <td>1.000000</td>\n",
              "      <td>0.114276</td>\n",
              "      <td>-0.072018</td>\n",
              "      <td>0.009139</td>\n",
              "      <td>0.001136</td>\n",
              "      <td>0.099689</td>\n",
              "      <td>0.021977</td>\n",
              "    </tr>\n",
              "    <tr>\n",
              "      <th>latitude</th>\n",
              "      <td>-0.106853</td>\n",
              "      <td>0.114276</td>\n",
              "      <td>1.000000</td>\n",
              "      <td>0.046829</td>\n",
              "      <td>-0.005696</td>\n",
              "      <td>-0.025282</td>\n",
              "      <td>0.220251</td>\n",
              "      <td>-0.001686</td>\n",
              "    </tr>\n",
              "    <tr>\n",
              "      <th>longitude</th>\n",
              "      <td>0.165195</td>\n",
              "      <td>-0.072018</td>\n",
              "      <td>0.046829</td>\n",
              "      <td>1.000000</td>\n",
              "      <td>0.108936</td>\n",
              "      <td>-0.254930</td>\n",
              "      <td>-0.541306</td>\n",
              "      <td>-0.009456</td>\n",
              "    </tr>\n",
              "    <tr>\n",
              "      <th>chronic_disease_binary</th>\n",
              "      <td>0.092190</td>\n",
              "      <td>0.009139</td>\n",
              "      <td>-0.005696</td>\n",
              "      <td>0.108936</td>\n",
              "      <td>1.000000</td>\n",
              "      <td>-0.221205</td>\n",
              "      <td>-0.106018</td>\n",
              "      <td>0.289324</td>\n",
              "    </tr>\n",
              "    <tr>\n",
              "      <th>outcome</th>\n",
              "      <td>-0.271602</td>\n",
              "      <td>0.001136</td>\n",
              "      <td>-0.025282</td>\n",
              "      <td>-0.254930</td>\n",
              "      <td>-0.221205</td>\n",
              "      <td>1.000000</td>\n",
              "      <td>0.245731</td>\n",
              "      <td>-0.070111</td>\n",
              "    </tr>\n",
              "    <tr>\n",
              "      <th>admin_id</th>\n",
              "      <td>-0.203519</td>\n",
              "      <td>0.099689</td>\n",
              "      <td>0.220251</td>\n",
              "      <td>-0.541306</td>\n",
              "      <td>-0.106018</td>\n",
              "      <td>0.245731</td>\n",
              "      <td>1.000000</td>\n",
              "      <td>-0.161900</td>\n",
              "    </tr>\n",
              "    <tr>\n",
              "      <th>travel_history_binary</th>\n",
              "      <td>0.046321</td>\n",
              "      <td>0.021977</td>\n",
              "      <td>-0.001686</td>\n",
              "      <td>-0.009456</td>\n",
              "      <td>0.289324</td>\n",
              "      <td>-0.070111</td>\n",
              "      <td>-0.161900</td>\n",
              "      <td>1.000000</td>\n",
              "    </tr>\n",
              "  </tbody>\n",
              "</table>\n",
              "</div>"
            ],
            "text/plain": [
              "                             age       sex  ...  admin_id  travel_history_binary\n",
              "age                     1.000000  0.007756  ... -0.203519               0.046321\n",
              "sex                     0.007756  1.000000  ...  0.099689               0.021977\n",
              "latitude               -0.106853  0.114276  ...  0.220251              -0.001686\n",
              "longitude               0.165195 -0.072018  ... -0.541306              -0.009456\n",
              "chronic_disease_binary  0.092190  0.009139  ... -0.106018               0.289324\n",
              "outcome                -0.271602  0.001136  ...  0.245731              -0.070111\n",
              "admin_id               -0.203519  0.099689  ...  1.000000              -0.161900\n",
              "travel_history_binary   0.046321  0.021977  ... -0.161900               1.000000\n",
              "\n",
              "[8 rows x 8 columns]"
            ]
          },
          "metadata": {
            "tags": []
          },
          "execution_count": 20
        }
      ]
    },
    {
      "cell_type": "code",
      "metadata": {
        "colab": {
          "base_uri": "https://localhost:8080/",
          "height": 782
        },
        "id": "ZLeQQzwjZRBn",
        "outputId": "7547a40c-1b35-48da-a20b-e9173ce4d7da"
      },
      "source": [
        "import seaborn as sns\n",
        "corr = df.corr(method='pearson')\n",
        "plt.figure(figsize=(10, 10))\n",
        "ax = sns.heatmap(\n",
        "    corr, \n",
        "    vmin=-1, vmax=1, center=0,\n",
        "    cmap=sns.diverging_palette(20, 220, n=200),\n",
        "    square=True\n",
        ")\n",
        "ax.set_xticklabels(\n",
        "    ax.get_xticklabels(),\n",
        "    rotation=45,\n",
        "    horizontalalignment='right'\n",
        ")"
      ],
      "execution_count": 21,
      "outputs": [
        {
          "output_type": "execute_result",
          "data": {
            "text/plain": [
              "[Text(0.5, 0, 'age'),\n",
              " Text(1.5, 0, 'sex'),\n",
              " Text(2.5, 0, 'latitude'),\n",
              " Text(3.5, 0, 'longitude'),\n",
              " Text(4.5, 0, 'chronic_disease_binary'),\n",
              " Text(5.5, 0, 'outcome'),\n",
              " Text(6.5, 0, 'admin_id'),\n",
              " Text(7.5, 0, 'travel_history_binary')]"
            ]
          },
          "metadata": {
            "tags": []
          },
          "execution_count": 21
        },
        {
          "output_type": "display_data",
          "data": {
            "image/png": "[encoded data removed]",
            "text/plain": [
              "<Figure size 720x720 with 2 Axes>"
            ]
          },
          "metadata": {
            "tags": [],
            "needs_background": "light"
          }
        }
      ]
    },
    {
      "cell_type": "markdown",
      "metadata": {
        "id": "UUVeiAODZE1N"
      },
      "source": [
        "Point Biserial Correlation between age (continuous) and outcome (binary)"
      ]
    },
    {
      "cell_type": "code",
      "metadata": {
        "colab": {
          "base_uri": "https://localhost:8080/"
        },
        "id": "M_vJvDO9Y2VE",
        "outputId": "8e396520-7bdc-4862-c609-af0d57f539bc"
      },
      "source": [
        "stats.pointbiserialr(df['age'], df['outcome'])"
      ],
      "execution_count": 22,
      "outputs": [
        {
          "output_type": "execute_result",
          "data": {
            "text/plain": [
              "PointbiserialrResult(correlation=-0.2716017762887445, pvalue=0.0)"
            ]
          },
          "metadata": {
            "tags": []
          },
          "execution_count": 22
        }
      ]
    },
    {
      "cell_type": "markdown",
      "metadata": {
        "id": "O5ETzQIT-7bS"
      },
      "source": [
        "Check if `age` is normally distributed."
      ]
    },
    {
      "cell_type": "code",
      "metadata": {
        "colab": {
          "base_uri": "https://localhost:8080/"
        },
        "id": "BIHJ12J9_AaO",
        "outputId": "3d52d3d2-de37-44b2-8e0a-ffd3ad325bcb"
      },
      "source": [
        "stats.shapiro(df['age'])"
      ],
      "execution_count": 23,
      "outputs": [
        {
          "output_type": "stream",
          "text": [
            "/usr/local/lib/python3.7/dist-packages/scipy/stats/morestats.py:1676: UserWarning: p-value may not be accurate for N > 5000.\n",
            "  warnings.warn(\"p-value may not be accurate for N > 5000.\")\n"
          ],
          "name": "stderr"
        },
        {
          "output_type": "execute_result",
          "data": {
            "text/plain": [
              "(0.9872353076934814, 0.0)"
            ]
          },
          "metadata": {
            "tags": []
          },
          "execution_count": 23
        }
      ]
    },
    {
      "cell_type": "markdown",
      "metadata": {
        "id": "b9Zbo0S7_CjG"
      },
      "source": [
        "Sample size too big for Shapiro-Wilk test, instead try Kolmogorov Smirnov test."
      ]
    },
    {
      "cell_type": "code",
      "metadata": {
        "colab": {
          "base_uri": "https://localhost:8080/"
        },
        "id": "5SO704e2_JaO",
        "outputId": "b8ea2ee4-c02d-4d8e-cdd1-58ef59153191"
      },
      "source": [
        "stats.kstest(df.loc[df['outcome']==True]['age'], 'norm')"
      ],
      "execution_count": 24,
      "outputs": [
        {
          "output_type": "execute_result",
          "data": {
            "text/plain": [
              "KstestResult(statistic=0.987790034561055, pvalue=0.0)"
            ]
          },
          "metadata": {
            "tags": []
          },
          "execution_count": 24
        }
      ]
    },
    {
      "cell_type": "code",
      "metadata": {
        "colab": {
          "base_uri": "https://localhost:8080/"
        },
        "id": "eM_4aDcg_NoV",
        "outputId": "0b8d3c9d-8ea4-4a85-c233-1eb03600b915"
      },
      "source": [
        "stats.kstest(df.loc[df['outcome']==False]['age'], 'norm')"
      ],
      "execution_count": 25,
      "outputs": [
        {
          "output_type": "execute_result",
          "data": {
            "text/plain": [
              "KstestResult(statistic=0.9866141732270666, pvalue=0.0)"
            ]
          },
          "metadata": {
            "tags": []
          },
          "execution_count": 25
        }
      ]
    },
    {
      "cell_type": "markdown",
      "metadata": {
        "id": "Ouvm3ybu_QvI"
      },
      "source": [
        "A very high test statistic is found, so age of a positive and negative COVID case are both normally distributed.\n",
        "\n",
        "Now, check if the mean of the ages differ based on outcomes using a Wilcoxon test on a random sample of each subset since subsets are of different sizes."
      ]
    },
    {
      "cell_type": "code",
      "metadata": {
        "id": "iKvTvkc4bF2C"
      },
      "source": [
        "df_alive= df.loc[df['outcome']==True].sample(n=1000, random_state=4)\n",
        "df_dead= df.loc[df['outcome']==False].sample(n=1000,  random_state=4)"
      ],
      "execution_count": 30,
      "outputs": []
    },
    {
      "cell_type": "code",
      "metadata": {
        "colab": {
          "base_uri": "https://localhost:8080/"
        },
        "id": "D2mS9Plo0Vzs",
        "outputId": "c4a1a71b-9042-4242-c2b5-d378f8c421fd"
      },
      "source": [
        "stats.wilcoxon(df_alive['age'], df_dead['age'])"
      ],
      "execution_count": 31,
      "outputs": [
        {
          "output_type": "execute_result",
          "data": {
            "text/plain": [
              "WilcoxonResult(statistic=38739.5, pvalue=2.192684799358713e-117)"
            ]
          },
          "metadata": {
            "tags": []
          },
          "execution_count": 31
        }
      ]
    },
    {
      "cell_type": "markdown",
      "metadata": {
        "id": "GOkup_r288pO"
      },
      "source": [
        "# Data Preparation"
      ]
    },
    {
      "cell_type": "code",
      "metadata": {
        "colab": {
          "base_uri": "https://localhost:8080/"
        },
        "id": "mCPBe5qCcolP",
        "outputId": "cbe94635-0ee0-4ab7-b884-57b3dc0104c4"
      },
      "source": [
        "len(df)"
      ],
      "execution_count": 32,
      "outputs": [
        {
          "output_type": "execute_result",
          "data": {
            "text/plain": [
              "33314"
            ]
          },
          "metadata": {
            "tags": []
          },
          "execution_count": 32
        }
      ]
    },
    {
      "cell_type": "markdown",
      "metadata": {
        "id": "SOnGKNwc9BXP"
      },
      "source": [
        "Todo: need to fix sex column, use one hot encoding on it!"
      ]
    },
    {
      "cell_type": "code",
      "metadata": {
        "colab": {
          "base_uri": "https://localhost:8080/",
          "height": 204
        },
        "id": "isO5KShA88Gx",
        "outputId": "a412bc82-812c-4876-fb19-0817bdb862bf"
      },
      "source": [
        "ml_df = df.copy()\n",
        "# sex_bin inclued only to check gini importance of RF\n",
        "ml_df = ml_df[['age', 'sex', 'latitude', 'longitude', 'chronic_disease_binary', 'travel_history_binary', 'outcome']]\n",
        "ml_df.head()"
      ],
      "execution_count": 33,
      "outputs": [
        {
          "output_type": "execute_result",
          "data": {
            "text/html": [
              "<div>\n",
              "<style scoped>\n",
              "    .dataframe tbody tr th:only-of-type {\n",
              "        vertical-align: middle;\n",
              "    }\n",
              "\n",
              "    .dataframe tbody tr th {\n",
              "        vertical-align: top;\n",
              "    }\n",
              "\n",
              "    .dataframe thead th {\n",
              "        text-align: right;\n",
              "    }\n",
              "</style>\n",
              "<table border=\"1\" class=\"dataframe\">\n",
              "  <thead>\n",
              "    <tr style=\"text-align: right;\">\n",
              "      <th></th>\n",
              "      <th>age</th>\n",
              "      <th>sex</th>\n",
              "      <th>latitude</th>\n",
              "      <th>longitude</th>\n",
              "      <th>chronic_disease_binary</th>\n",
              "      <th>travel_history_binary</th>\n",
              "      <th>outcome</th>\n",
              "    </tr>\n",
              "  </thead>\n",
              "  <tbody>\n",
              "    <tr>\n",
              "      <th>66859</th>\n",
              "      <td>36</td>\n",
              "      <td>True</td>\n",
              "      <td>13.511667</td>\n",
              "      <td>2.125278</td>\n",
              "      <td>False</td>\n",
              "      <td>False</td>\n",
              "      <td>True</td>\n",
              "    </tr>\n",
              "    <tr>\n",
              "      <th>66870</th>\n",
              "      <td>51</td>\n",
              "      <td>True</td>\n",
              "      <td>13.511667</td>\n",
              "      <td>2.125278</td>\n",
              "      <td>False</td>\n",
              "      <td>True</td>\n",
              "      <td>True</td>\n",
              "    </tr>\n",
              "    <tr>\n",
              "      <th>66892</th>\n",
              "      <td>63</td>\n",
              "      <td>True</td>\n",
              "      <td>13.511667</td>\n",
              "      <td>2.125278</td>\n",
              "      <td>False</td>\n",
              "      <td>True</td>\n",
              "      <td>True</td>\n",
              "    </tr>\n",
              "    <tr>\n",
              "      <th>66903</th>\n",
              "      <td>57</td>\n",
              "      <td>True</td>\n",
              "      <td>13.511667</td>\n",
              "      <td>2.125278</td>\n",
              "      <td>False</td>\n",
              "      <td>True</td>\n",
              "      <td>True</td>\n",
              "    </tr>\n",
              "    <tr>\n",
              "      <th>66915</th>\n",
              "      <td>63</td>\n",
              "      <td>False</td>\n",
              "      <td>13.511667</td>\n",
              "      <td>2.125278</td>\n",
              "      <td>False</td>\n",
              "      <td>True</td>\n",
              "      <td>True</td>\n",
              "    </tr>\n",
              "  </tbody>\n",
              "</table>\n",
              "</div>"
            ],
            "text/plain": [
              "       age    sex  ...  travel_history_binary  outcome\n",
              "66859   36   True  ...                  False     True\n",
              "66870   51   True  ...                   True     True\n",
              "66892   63   True  ...                   True     True\n",
              "66903   57   True  ...                   True     True\n",
              "66915   63  False  ...                   True     True\n",
              "\n",
              "[5 rows x 7 columns]"
            ]
          },
          "metadata": {
            "tags": []
          },
          "execution_count": 33
        }
      ]
    },
    {
      "cell_type": "markdown",
      "metadata": {
        "id": "ncyy1yQWAX8q"
      },
      "source": [
        "Check if there are any nulls."
      ]
    },
    {
      "cell_type": "code",
      "metadata": {
        "colab": {
          "base_uri": "https://localhost:8080/"
        },
        "id": "cafW819WAZ9i",
        "outputId": "e63ec3b7-8300-4a09-b30f-524c3d14cbf4"
      },
      "source": [
        "ml_df.isnull().sum().sort_values()"
      ],
      "execution_count": 34,
      "outputs": [
        {
          "output_type": "execute_result",
          "data": {
            "text/plain": [
              "age                       0\n",
              "sex                       0\n",
              "latitude                  0\n",
              "longitude                 0\n",
              "chronic_disease_binary    0\n",
              "travel_history_binary     0\n",
              "outcome                   0\n",
              "dtype: int64"
            ]
          },
          "metadata": {
            "tags": []
          },
          "execution_count": 34
        }
      ]
    },
    {
      "cell_type": "markdown",
      "metadata": {
        "id": "2PuXXkKTAmXy"
      },
      "source": [
        "Create feature vector and label"
      ]
    },
    {
      "cell_type": "code",
      "metadata": {
        "id": "424a7DrvApH6"
      },
      "source": [
        "# Feature Vector\n",
        "X = ml_df.drop(columns=['outcome'])\n",
        "# Label\n",
        "y = ml_df['outcome']"
      ],
      "execution_count": 35,
      "outputs": []
    },
    {
      "cell_type": "markdown",
      "metadata": {
        "id": "09JB9GBvAwsp"
      },
      "source": [
        "Perform train test split. "
      ]
    },
    {
      "cell_type": "code",
      "metadata": {
        "id": "NVaLii8KAwKK"
      },
      "source": [
        "from sklearn.model_selection import StratifiedShuffleSplit\n",
        "\n",
        "stratified_split = StratifiedShuffleSplit(n_splits=1, test_size=0.3, random_state=42)\n",
        "\n",
        "for train_index, test_index in stratified_split.split(ml_df, ml_df['outcome']):\n",
        "    strat_train_set = ml_df.iloc[train_index]\n",
        "    strat_test_set = ml_df.iloc[test_index]"
      ],
      "execution_count": 36,
      "outputs": []
    },
    {
      "cell_type": "code",
      "metadata": {
        "colab": {
          "base_uri": "https://localhost:8080/"
        },
        "id": "CyAp7QevBcbC",
        "outputId": "a7112cad-635f-4abd-8933-06782755de3d"
      },
      "source": [
        "print(len(strat_train_set))\n",
        "print(len(strat_test_set))"
      ],
      "execution_count": 37,
      "outputs": [
        {
          "output_type": "stream",
          "text": [
            "23319\n",
            "9995\n"
          ],
          "name": "stdout"
        }
      ]
    },
    {
      "cell_type": "code",
      "metadata": {
        "id": "BYDZHf-dBfeK"
      },
      "source": [
        "# Feature Vectors\n",
        "X_train = strat_train_set.drop(columns=['outcome'])\n",
        "X_test = strat_test_set.drop(columns=['outcome'])\n",
        "\n",
        "# Labels\n",
        "y_train = strat_train_set['outcome']\n",
        "y_test = strat_test_set['outcome']\n",
        "\n",
        "numeric_train_df = X_train.select_dtypes(exclude=['object'])\n",
        "numeric_test_df = X_test.select_dtypes(exclude=['object'])\n",
        "\n",
        "# to deal with sex\n",
        "categorical_train_df = X_train.select_dtypes(['object'])\n",
        "categorical_test_df = X_test.select_dtypes(['object'])"
      ],
      "execution_count": 38,
      "outputs": []
    },
    {
      "cell_type": "code",
      "metadata": {
        "id": "uNXiewtCBx7j"
      },
      "source": [
        "from sklearn.base import BaseEstimator, TransformerMixin\n",
        "class DFSelector(BaseEstimator, TransformerMixin):\n",
        "    def __init__(self, attribute_names):\n",
        "        self.attribute_names = attribute_names\n",
        "    def fit (self, X, y=None):\n",
        "        return self\n",
        "    def transform(self, X):\n",
        "        return X[self.attribute_names].values"
      ],
      "execution_count": 39,
      "outputs": []
    },
    {
      "cell_type": "code",
      "metadata": {
        "id": "XVQDxY0nB0YB"
      },
      "source": [
        "from sklearn.preprocessing import OneHotEncoder, StandardScaler\n",
        "from sklearn.pipeline import Pipeline\n",
        "from sklearn.compose import ColumnTransformer\n",
        "\n",
        "num_attributes = list(X_train.select_dtypes(exclude=['object']))\n",
        "# removed country so i only have a numerical pipeline\n",
        "cat_attributes = list(X_train.select_dtypes(['object']))\n",
        "\n",
        "\n",
        "\n",
        "num_pipeline = Pipeline([\n",
        "                         ('select_numeric', DFSelector(num_attributes)),\n",
        "                         ('std_sclr', StandardScaler()),\n",
        "                        ])\n",
        "\n",
        "cat_pipeline = Pipeline([\n",
        "                         ('select_categoric', DFSelector(cat_attributes)),\n",
        "                         ('one_hot', OneHotEncoder()),\n",
        "                        ])\n",
        "\n",
        "full_pipeline = ColumnTransformer([\n",
        "                                    ('num', num_pipeline, num_attributes),\n",
        "                                    ('cat', cat_pipeline, cat_attributes),\n",
        "                                ])\n",
        "\n",
        "X_train_scaled = full_pipeline.fit_transform(X_train)\n",
        "X_test_scaled = full_pipeline.fit_transform(X_test)\n",
        "\n",
        "# This is what o reilly does, but i dont think its what im after\n",
        "# it also reqwuires num_att and cat_att to be based on the entire svm_df\n",
        "# svm_df_prepared = full_pipeline.fit_transform(svm_df)"
      ],
      "execution_count": 40,
      "outputs": []
    },
    {
      "cell_type": "markdown",
      "metadata": {
        "id": "lVksw5CTC1dC"
      },
      "source": [
        "Label Scaling"
      ]
    },
    {
      "cell_type": "code",
      "metadata": {
        "id": "tfmLiFUbC229"
      },
      "source": [
        "from sklearn.preprocessing import LabelEncoder\n",
        "\n",
        "le = LabelEncoder()\n",
        "y_train_scaled = le.fit_transform(y_train)\n",
        "y_test_scaled = le.fit_transform(y_test)"
      ],
      "execution_count": 41,
      "outputs": []
    },
    {
      "cell_type": "code",
      "metadata": {
        "id": "HocA_eDFHSlE"
      },
      "source": [
        "from sklearn.metrics import accuracy_score, mean_squared_error, balanced_accuracy_score, jaccard_score, f1_score, confusion_matrix, plot_roc_curve\n",
        "def performance_metrics(model, X_test, y_test, y_hat):\n",
        "    print('Accuracy: ', accuracy_score(y_test, y_hat)*100, '%')\n",
        "    print('Root Mean Squared Error: ', np.sqrt(mean_squared_error(y_test, y_hat)))\n",
        "    print('Balanced Accuracy: ', balanced_accuracy_score(y_test, y_hat)*100, '%')\n",
        "    print('Jaccard Score: ', jaccard_score(y_test, y_hat, average='weighted')*100, '%')\n",
        "    print('F1 Score: ', f1_score(y_test, y_hat))\n",
        "\n",
        "    cm = confusion_matrix(y_test, y_hat)\n",
        "    print('True Negatives (Correctly Predicted Death): ', cm[0,0])\n",
        "    print('False Negatives (Incorrectly Predicted as Death): ',  cm[1,0])\n",
        "    print('True Positives (Correctly Predicted as Alive): ', cm[1,1])\n",
        "    print('False Positives (Incorrectly Predicted as Alive): ',  cm[0,1])\n",
        "\n",
        "    print('Sensitivty (Recall/True Positive Rate): ', cm[1,1] / (cm[1,1]+cm[1,0])) # TP/(TP+FN), proportion of actual positives branded as positives\n",
        "    print('False Positive Rate: ', cm[0,1] / (cm[0,1]+cm[0,0])) # FP/(FP+TN), proportion of actual negatives branded as postives\n",
        "    print('Specificity: ', cm[0,0] / (cm[0,0]+cm[0,1])) # TN/(TN+FP)\n",
        "    print('Positive Predictive Value (Precision): ', cm[1,1] / (cm[1,1]+cm[0,1])) # TP/(TP+FP)\n",
        "    print('Negative Predictive Value: ', cm[0,0] / (cm[0,0]+cm[1,0])) # TN/(TN+FN)\n",
        "\n",
        "    plot_roc_curve(model, X_test, y_test)\n",
        "    plt.show"
      ],
      "execution_count": 42,
      "outputs": []
    },
    {
      "cell_type": "markdown",
      "metadata": {
        "id": "Ne98iWLaC7wC"
      },
      "source": [
        "## Support Vector Machine"
      ]
    },
    {
      "cell_type": "markdown",
      "metadata": {
        "id": "1mtIiJ12F8JB"
      },
      "source": [
        "Create a SVM classifier and perform 10-fold cross validation to get an idea of ifdeal parameters (no fitting to training set yet)."
      ]
    },
    {
      "cell_type": "code",
      "metadata": {
        "colab": {
          "base_uri": "https://localhost:8080/"
        },
        "id": "hoUnweImC7Pb",
        "outputId": "9c493bea-ca1e-42ed-8e4f-014c69e8152e"
      },
      "source": [
        "from sklearn.svm import SVC\n",
        "from sklearn.model_selection import cross_validate\n",
        "\n",
        "SVM_basemodel = SVC(random_state=42)\n",
        "scoring = ['accuracy', 'f1', 'precision', 'recall']\n",
        "\n",
        "scores = cross_validate(SVM_basemodel, X_train_scaled, y_train_scaled, cv = 5,\n",
        "                        scoring=scoring, return_estimator=True)\n",
        "sorted(scores.keys())"
      ],
      "execution_count": 43,
      "outputs": [
        {
          "output_type": "execute_result",
          "data": {
            "text/plain": [
              "['estimator',\n",
              " 'fit_time',\n",
              " 'score_time',\n",
              " 'test_accuracy',\n",
              " 'test_f1',\n",
              " 'test_precision',\n",
              " 'test_recall']"
            ]
          },
          "metadata": {
            "tags": []
          },
          "execution_count": 43
        }
      ]
    },
    {
      "cell_type": "code",
      "metadata": {
        "colab": {
          "base_uri": "https://localhost:8080/"
        },
        "id": "s8Wis22j40pY",
        "outputId": "e33abb5a-4bb3-4eac-8636-0f365caa6e9b"
      },
      "source": [
        "print('Average Accuracy:', scores['test_accuracy'].mean())\n",
        "print('Average F1:', scores['test_f1'].mean())\n",
        "print('Average Precision:', scores['test_precision'].mean())\n",
        "print('Average Recall:', scores['test_recall'].mean())"
      ],
      "execution_count": 44,
      "outputs": [
        {
          "output_type": "stream",
          "text": [
            "Average Accuracy: 0.9665080177551904\n",
            "Average F1: 0.9828524147931358\n",
            "Average Precision: 0.9682904452504643\n",
            "Average Recall: 0.9978600089166296\n"
          ],
          "name": "stdout"
        }
      ]
    },
    {
      "cell_type": "code",
      "metadata": {
        "colab": {
          "base_uri": "https://localhost:8080/"
        },
        "id": "bcsUgE6W42bA",
        "outputId": "0ad72f96-0502-41a6-c5e2-966ef2fac1f4"
      },
      "source": [
        "scores['estimator']"
      ],
      "execution_count": 45,
      "outputs": [
        {
          "output_type": "execute_result",
          "data": {
            "text/plain": [
              "(SVC(C=1.0, break_ties=False, cache_size=200, class_weight=None, coef0=0.0,\n",
              "     decision_function_shape='ovr', degree=3, gamma='scale', kernel='rbf',\n",
              "     max_iter=-1, probability=False, random_state=42, shrinking=True, tol=0.001,\n",
              "     verbose=False),\n",
              " SVC(C=1.0, break_ties=False, cache_size=200, class_weight=None, coef0=0.0,\n",
              "     decision_function_shape='ovr', degree=3, gamma='scale', kernel='rbf',\n",
              "     max_iter=-1, probability=False, random_state=42, shrinking=True, tol=0.001,\n",
              "     verbose=False),\n",
              " SVC(C=1.0, break_ties=False, cache_size=200, class_weight=None, coef0=0.0,\n",
              "     decision_function_shape='ovr', degree=3, gamma='scale', kernel='rbf',\n",
              "     max_iter=-1, probability=False, random_state=42, shrinking=True, tol=0.001,\n",
              "     verbose=False),\n",
              " SVC(C=1.0, break_ties=False, cache_size=200, class_weight=None, coef0=0.0,\n",
              "     decision_function_shape='ovr', degree=3, gamma='scale', kernel='rbf',\n",
              "     max_iter=-1, probability=False, random_state=42, shrinking=True, tol=0.001,\n",
              "     verbose=False),\n",
              " SVC(C=1.0, break_ties=False, cache_size=200, class_weight=None, coef0=0.0,\n",
              "     decision_function_shape='ovr', degree=3, gamma='scale', kernel='rbf',\n",
              "     max_iter=-1, probability=False, random_state=42, shrinking=True, tol=0.001,\n",
              "     verbose=False))"
            ]
          },
          "metadata": {
            "tags": []
          },
          "execution_count": 45
        }
      ]
    },
    {
      "cell_type": "code",
      "metadata": {
        "colab": {
          "base_uri": "https://localhost:8080/"
        },
        "id": "KDBChD6J5rwY",
        "outputId": "d64c53dc-5a2e-4109-8be6-b0f4f794b3fb"
      },
      "source": [
        "SVM_basemodel.fit(X_train_scaled, y_train_scaled)"
      ],
      "execution_count": 46,
      "outputs": [
        {
          "output_type": "execute_result",
          "data": {
            "text/plain": [
              "SVC(C=1.0, break_ties=False, cache_size=200, class_weight=None, coef0=0.0,\n",
              "    decision_function_shape='ovr', degree=3, gamma='scale', kernel='rbf',\n",
              "    max_iter=-1, probability=False, random_state=42, shrinking=True, tol=0.001,\n",
              "    verbose=False)"
            ]
          },
          "metadata": {
            "tags": []
          },
          "execution_count": 46
        }
      ]
    },
    {
      "cell_type": "markdown",
      "metadata": {
        "id": "hjuoGR9GDGQj"
      },
      "source": [
        "Results of default base model with test set."
      ]
    },
    {
      "cell_type": "code",
      "metadata": {
        "id": "NtWWY1_E506A"
      },
      "source": [
        "y_hat_SVM_base = SVM_basemodel.predict(X_test_scaled)"
      ],
      "execution_count": 47,
      "outputs": []
    },
    {
      "cell_type": "code",
      "metadata": {
        "colab": {
          "base_uri": "https://localhost:8080/",
          "height": 524
        },
        "id": "5PZ9s8Yn56qU",
        "outputId": "8dc6098a-a971-430f-df45-6a76b59e6ee7"
      },
      "source": [
        "performance_metrics(SVM_basemodel, X_test_scaled, y_test_scaled, y_hat_SVM_base)"
      ],
      "execution_count": 48,
      "outputs": [
        {
          "output_type": "stream",
          "text": [
            "Accuracy:  96.57828914457228 %\n",
            "Root Mean Squared Error:  0.18497867053873304\n",
            "Balanced Accuracy:  57.89083286785947 %\n",
            "Jaccard Score:  93.45359365156582 %\n",
            "F1 Score:  0.9824848919389533\n",
            "True Negatives (Correctly Predicted Death):  61\n",
            "False Negatives (Incorrectly Predicted as Death):  22\n",
            "True Positives (Correctly Predicted as Alive):  9592\n",
            "False Positives (Incorrectly Predicted as Alive):  320\n",
            "Sensitivty (Recall/True Positive Rate):  0.9977116704805492\n",
            "False Positive Rate:  0.8398950131233596\n",
            "Specificity:  0.16010498687664043\n",
            "Positive Predictive Value (Precision):  0.9677158999192897\n",
            "Negative Predictive Value:  0.7349397590361446\n"
          ],
          "name": "stdout"
        },
        {
          "output_type": "display_data",
          "data": {
            "image/png": "[encoded data removed]",
            "text/plain": [
              "<Figure size 432x288 with 1 Axes>"
            ]
          },
          "metadata": {
            "tags": [],
            "needs_background": "light"
          }
        }
      ]
    },
    {
      "cell_type": "markdown",
      "metadata": {
        "id": "0UaoDqTV6DmV"
      },
      "source": [
        "Now use random search hyper tuning. Takes approximately 6 to 10 minutes."
      ]
    },
    {
      "cell_type": "code",
      "metadata": {
        "colab": {
          "base_uri": "https://localhost:8080/"
        },
        "id": "F6SgIB9Q6HQo",
        "outputId": "1b0ef82b-f1c8-414e-bb5c-a9aef8f6a76e"
      },
      "source": [
        "from sklearn.model_selection import RandomizedSearchCV\n",
        "parameter_space = {\n",
        "    'C': [0.1, 1, 10, 100],\n",
        "    'gamma': [ 0.1, 1, 10],\n",
        "}\n",
        "\n",
        "SVM_tuned =SVC(random_state=42)\n",
        "\n",
        "SVM_randsearch = RandomizedSearchCV(estimator=SVM_tuned,\n",
        "                            param_distributions=parameter_space,\n",
        "                            scoring=scoring,\n",
        "                            verbose=1, n_jobs=-1,\n",
        "                            n_iter=1000, refit = 'accuracy') # set refit to false for multi key scoring\n",
        "\n",
        "\n",
        "\n",
        "SVM_rand_result = SVM_randsearch.fit(X_train_scaled, y_train_scaled)"
      ],
      "execution_count": 49,
      "outputs": [
        {
          "output_type": "stream",
          "text": [
            "Fitting 5 folds for each of 12 candidates, totalling 60 fits\n"
          ],
          "name": "stdout"
        },
        {
          "output_type": "stream",
          "text": [
            "/usr/local/lib/python3.7/dist-packages/sklearn/model_selection/_search.py:281: UserWarning: The total space of parameters 12 is smaller than n_iter=1000. Running 12 iterations. For exhaustive searches, use GridSearchCV.\n",
            "  % (grid_size, self.n_iter, grid_size), UserWarning)\n",
            "[Parallel(n_jobs=-1)]: Using backend LokyBackend with 2 concurrent workers.\n",
            "[Parallel(n_jobs=-1)]: Done  46 tasks      | elapsed:  2.4min\n",
            "[Parallel(n_jobs=-1)]: Done  60 out of  60 | elapsed:  6.3min finished\n"
          ],
          "name": "stderr"
        }
      ]
    },
    {
      "cell_type": "code",
      "metadata": {
        "colab": {
          "base_uri": "https://localhost:8080/"
        },
        "id": "6A7PUDyRBwta",
        "outputId": "e9867395-b81d-466c-f30c-045f1d8c3d68"
      },
      "source": [
        "results = SVM_rand_result.cv_results_\n",
        "dict(results).keys()"
      ],
      "execution_count": 50,
      "outputs": [
        {
          "output_type": "execute_result",
          "data": {
            "text/plain": [
              "dict_keys(['mean_fit_time', 'std_fit_time', 'mean_score_time', 'std_score_time', 'param_gamma', 'param_C', 'params', 'split0_test_accuracy', 'split1_test_accuracy', 'split2_test_accuracy', 'split3_test_accuracy', 'split4_test_accuracy', 'mean_test_accuracy', 'std_test_accuracy', 'rank_test_accuracy', 'split0_test_f1', 'split1_test_f1', 'split2_test_f1', 'split3_test_f1', 'split4_test_f1', 'mean_test_f1', 'std_test_f1', 'rank_test_f1', 'split0_test_precision', 'split1_test_precision', 'split2_test_precision', 'split3_test_precision', 'split4_test_precision', 'mean_test_precision', 'std_test_precision', 'rank_test_precision', 'split0_test_recall', 'split1_test_recall', 'split2_test_recall', 'split3_test_recall', 'split4_test_recall', 'mean_test_recall', 'std_test_recall', 'rank_test_recall'])"
            ]
          },
          "metadata": {
            "tags": []
          },
          "execution_count": 50
        }
      ]
    },
    {
      "cell_type": "code",
      "metadata": {
        "colab": {
          "base_uri": "https://localhost:8080/"
        },
        "id": "3zcvHXgtB8tZ",
        "outputId": "39ecb207-3cb4-49b4-9e8f-098556857aee"
      },
      "source": [
        "print('Accuracy: ', dict(results)['mean_test_accuracy'].max())\n",
        "print('Precision: ', dict(results)['mean_test_precision'].max())\n",
        "print('Recall: ', dict(results)['mean_test_recall'].max())\n",
        "print('F1: ', dict(results)['mean_test_f1'].max())"
      ],
      "execution_count": 51,
      "outputs": [
        {
          "output_type": "stream",
          "text": [
            "Accuracy:  0.9668939433789376\n",
            "Precision:  0.9711893898298083\n",
            "Recall:  0.9994650022291574\n",
            "F1:  0.9830352587088766\n"
          ],
          "name": "stdout"
        }
      ]
    },
    {
      "cell_type": "code",
      "metadata": {
        "id": "lf4JYoGzCGSD"
      },
      "source": [
        "SVM_clf = SVM_rand_result.best_estimator_\n",
        "SVM_clf.fit(X_train_scaled, y_train_scaled)\n",
        "y_hat_SVM_tuned = SVM_clf.predict(X_test_scaled)"
      ],
      "execution_count": 52,
      "outputs": []
    },
    {
      "cell_type": "markdown",
      "metadata": {
        "id": "MbACJCcXDKJw"
      },
      "source": [
        "Results of final tuned model with tests et"
      ]
    },
    {
      "cell_type": "code",
      "metadata": {
        "colab": {
          "base_uri": "https://localhost:8080/",
          "height": 524
        },
        "id": "tIHcVOkCCWPR",
        "outputId": "818b0a89-da1f-431f-b89a-530447fd1186"
      },
      "source": [
        "performance_metrics(SVM_clf, X_test_scaled, y_test_scaled, y_hat_SVM_tuned)"
      ],
      "execution_count": 53,
      "outputs": [
        {
          "output_type": "stream",
          "text": [
            "Accuracy:  96.58829414707354 %\n",
            "Root Mean Squared Error:  0.18470803590874066\n",
            "Balanced Accuracy:  59.03032923880146 %\n",
            "Jaccard Score:  93.53252376431833 %\n",
            "F1 Score:  0.9825208877953764\n",
            "True Negatives (Correctly Predicted Death):  70\n",
            "False Negatives (Incorrectly Predicted as Death):  30\n",
            "True Positives (Correctly Predicted as Alive):  9584\n",
            "False Positives (Incorrectly Predicted as Alive):  311\n",
            "Sensitivty (Recall/True Positive Rate):  0.9968795506552943\n",
            "False Positive Rate:  0.8162729658792651\n",
            "Specificity:  0.1837270341207349\n",
            "Positive Predictive Value (Precision):  0.9685699848408287\n",
            "Negative Predictive Value:  0.7\n"
          ],
          "name": "stdout"
        },
        {
          "output_type": "display_data",
          "data": {
            "image/png": "[encoded data removed]",
            "text/plain": [
              "<Figure size 432x288 with 1 Axes>"
            ]
          },
          "metadata": {
            "tags": [],
            "needs_background": "light"
          }
        }
      ]
    },
    {
      "cell_type": "markdown",
      "metadata": {
        "id": "_XuTMaA643Ne"
      },
      "source": [
        "---"
      ]
    },
    {
      "cell_type": "markdown",
      "metadata": {
        "id": "8uh2LUu0HfnS"
      },
      "source": [
        "# Random Forests"
      ]
    },
    {
      "cell_type": "code",
      "metadata": {
        "id": "hhX56gVrHl-1",
        "colab": {
          "base_uri": "https://localhost:8080/"
        },
        "outputId": "4866934a-5b33-476b-dede-768520a1d1ea"
      },
      "source": [
        "from sklearn.ensemble import RandomForestClassifier\n",
        "from sklearn.model_selection import cross_validate\n",
        "RF_basemodel = RandomForestClassifier(n_estimators=1000, random_state=42)\n",
        "scoring = ['accuracy', 'f1', 'precision', 'recall']\n",
        "\n",
        "scores = cross_validate(RF_basemodel, X_train_scaled, y_train_scaled, cv = 5,\n",
        "                        scoring=scoring, return_estimator=True)\n",
        "# print(f'{scores.mean()*100}% accuracy with a standard deviation of {scores.std()}')\n",
        "sorted(scores.keys())"
      ],
      "execution_count": 54,
      "outputs": [
        {
          "output_type": "execute_result",
          "data": {
            "text/plain": [
              "['estimator',\n",
              " 'fit_time',\n",
              " 'score_time',\n",
              " 'test_accuracy',\n",
              " 'test_f1',\n",
              " 'test_precision',\n",
              " 'test_recall']"
            ]
          },
          "metadata": {
            "tags": []
          },
          "execution_count": 54
        }
      ]
    },
    {
      "cell_type": "markdown",
      "metadata": {
        "id": "kOFaCDHeGKnT"
      },
      "source": [
        "metrics from validaiton set for default base model:"
      ]
    },
    {
      "cell_type": "code",
      "metadata": {
        "colab": {
          "base_uri": "https://localhost:8080/"
        },
        "id": "uK4mzjH7GD_3",
        "outputId": "b6abbcbc-d64e-4158-d941-09ace5fac565"
      },
      "source": [
        "print('Average Accuracy:', scores['test_accuracy'].mean())\n",
        "print('Average F1:', scores['test_f1'].mean())\n",
        "print('Average Precision:', scores['test_precision'].mean())\n",
        "print('Average Recall:', scores['test_recall'].mean())"
      ],
      "execution_count": 55,
      "outputs": [
        {
          "output_type": "stream",
          "text": [
            "Average Accuracy: 0.9620481425800499\n",
            "Average F1: 0.980412770791985\n",
            "Average Precision: 0.9734551494451512\n",
            "Average Recall: 0.9874721355327687\n"
          ],
          "name": "stdout"
        }
      ]
    },
    {
      "cell_type": "code",
      "metadata": {
        "colab": {
          "base_uri": "https://localhost:8080/"
        },
        "id": "-SuEeWwlGHk_",
        "outputId": "6602c091-3f33-4f93-d66b-a9ec0b616241"
      },
      "source": [
        "scores['estimator']"
      ],
      "execution_count": 56,
      "outputs": [
        {
          "output_type": "execute_result",
          "data": {
            "text/plain": [
              "(RandomForestClassifier(bootstrap=True, ccp_alpha=0.0, class_weight=None,\n",
              "                        criterion='gini', max_depth=None, max_features='auto',\n",
              "                        max_leaf_nodes=None, max_samples=None,\n",
              "                        min_impurity_decrease=0.0, min_impurity_split=None,\n",
              "                        min_samples_leaf=1, min_samples_split=2,\n",
              "                        min_weight_fraction_leaf=0.0, n_estimators=1000,\n",
              "                        n_jobs=None, oob_score=False, random_state=42, verbose=0,\n",
              "                        warm_start=False),\n",
              " RandomForestClassifier(bootstrap=True, ccp_alpha=0.0, class_weight=None,\n",
              "                        criterion='gini', max_depth=None, max_features='auto',\n",
              "                        max_leaf_nodes=None, max_samples=None,\n",
              "                        min_impurity_decrease=0.0, min_impurity_split=None,\n",
              "                        min_samples_leaf=1, min_samples_split=2,\n",
              "                        min_weight_fraction_leaf=0.0, n_estimators=1000,\n",
              "                        n_jobs=None, oob_score=False, random_state=42, verbose=0,\n",
              "                        warm_start=False),\n",
              " RandomForestClassifier(bootstrap=True, ccp_alpha=0.0, class_weight=None,\n",
              "                        criterion='gini', max_depth=None, max_features='auto',\n",
              "                        max_leaf_nodes=None, max_samples=None,\n",
              "                        min_impurity_decrease=0.0, min_impurity_split=None,\n",
              "                        min_samples_leaf=1, min_samples_split=2,\n",
              "                        min_weight_fraction_leaf=0.0, n_estimators=1000,\n",
              "                        n_jobs=None, oob_score=False, random_state=42, verbose=0,\n",
              "                        warm_start=False),\n",
              " RandomForestClassifier(bootstrap=True, ccp_alpha=0.0, class_weight=None,\n",
              "                        criterion='gini', max_depth=None, max_features='auto',\n",
              "                        max_leaf_nodes=None, max_samples=None,\n",
              "                        min_impurity_decrease=0.0, min_impurity_split=None,\n",
              "                        min_samples_leaf=1, min_samples_split=2,\n",
              "                        min_weight_fraction_leaf=0.0, n_estimators=1000,\n",
              "                        n_jobs=None, oob_score=False, random_state=42, verbose=0,\n",
              "                        warm_start=False),\n",
              " RandomForestClassifier(bootstrap=True, ccp_alpha=0.0, class_weight=None,\n",
              "                        criterion='gini', max_depth=None, max_features='auto',\n",
              "                        max_leaf_nodes=None, max_samples=None,\n",
              "                        min_impurity_decrease=0.0, min_impurity_split=None,\n",
              "                        min_samples_leaf=1, min_samples_split=2,\n",
              "                        min_weight_fraction_leaf=0.0, n_estimators=1000,\n",
              "                        n_jobs=None, oob_score=False, random_state=42, verbose=0,\n",
              "                        warm_start=False))"
            ]
          },
          "metadata": {
            "tags": []
          },
          "execution_count": 56
        }
      ]
    },
    {
      "cell_type": "code",
      "metadata": {
        "id": "pIrLWF5vGVGC"
      },
      "source": [
        "RF_basemodel.fit(X_train_scaled, y_train_scaled)\n",
        "y_hat_RF_base = RF_basemodel.predict(X_test_scaled)"
      ],
      "execution_count": 57,
      "outputs": []
    },
    {
      "cell_type": "code",
      "metadata": {
        "colab": {
          "base_uri": "https://localhost:8080/",
          "height": 524
        },
        "id": "LQlLJ8BZGjUM",
        "outputId": "612f1dfd-0ac6-487a-9371-ad6807a13667"
      },
      "source": [
        "performance_metrics(RF_basemodel, X_test_scaled, y_test_scaled, y_hat_RF_base)"
      ],
      "execution_count": 58,
      "outputs": [
        {
          "output_type": "stream",
          "text": [
            "Accuracy:  96.56828414207104 %\n",
            "Root Mean Squared Error:  0.1852489097924456\n",
            "Balanced Accuracy:  60.280256209912594 %\n",
            "Jaccard Score:  93.58148620774482 %\n",
            "F1 Score:  0.9823985220916508\n",
            "True Negatives (Correctly Predicted Death):  80\n",
            "False Negatives (Incorrectly Predicted as Death):  42\n",
            "True Positives (Correctly Predicted as Alive):  9572\n",
            "False Positives (Incorrectly Predicted as Alive):  301\n",
            "Sensitivty (Recall/True Positive Rate):  0.9956313709174122\n",
            "False Positive Rate:  0.7900262467191601\n",
            "Specificity:  0.2099737532808399\n",
            "Positive Predictive Value (Precision):  0.9695128127215639\n",
            "Negative Predictive Value:  0.6557377049180327\n"
          ],
          "name": "stdout"
        },
        {
          "output_type": "display_data",
          "data": {
            "image/png": "[encoded data removed]",
            "text/plain": [
              "<Figure size 432x288 with 1 Axes>"
            ]
          },
          "metadata": {
            "tags": [],
            "needs_background": "light"
          }
        }
      ]
    },
    {
      "cell_type": "markdown",
      "metadata": {
        "id": "VLLDzpnHiMRw"
      },
      "source": [
        "Look at feature importances of base model."
      ]
    },
    {
      "cell_type": "code",
      "metadata": {
        "colab": {
          "base_uri": "https://localhost:8080/",
          "height": 313
        },
        "id": "GfjzmyWXdVtl",
        "outputId": "52a63821-faa6-44bd-84e3-0b92d4c63690"
      },
      "source": [
        "importances = RF_basemodel.feature_importances_\n",
        "std = np.std([\n",
        "    tree.feature_importances_ for tree in RF_basemodel.estimators_], axis=0)\n",
        "\n",
        "\n",
        "forest_importances = pd.Series(importances, index=list(X_train.select_dtypes(exclude=['object'])))\n",
        "\n",
        "fig, ax = plt.subplots()\n",
        "forest_importances.plot.bar(yerr=std, ax=ax)\n",
        "ax.set_ylabel(\"Mean decrease in impurity\")\n",
        "ax.set_xticklabels(\n",
        "    ax.get_xticklabels(),\n",
        "    rotation=45,\n",
        "    horizontalalignment='right'\n",
        ")\n",
        "fig.tight_layout()"
      ],
      "execution_count": 59,
      "outputs": [
        {
          "output_type": "display_data",
          "data": {
            "image/png": "[encoded data removed]",
            "text/plain": [
              "<Figure size 432x288 with 1 Axes>"
            ]
          },
          "metadata": {
            "tags": [],
            "needs_background": "light"
          }
        }
      ]
    },
    {
      "cell_type": "markdown",
      "metadata": {
        "id": "1kHC1_7sHsJp"
      },
      "source": [
        "Ranges for parameters may appear,narrow, trail and error was used to condfirm that the optimal values lie within this range.\n",
        "this stiol takes a whilke, so need to cut down the numbrer of fits to try."
      ]
    },
    {
      "cell_type": "code",
      "metadata": {
        "colab": {
          "base_uri": "https://localhost:8080/"
        },
        "id": "qcsSWOj2G3gH",
        "outputId": "06fcc168-bf72-4221-a8d9-8f2509ef0c21"
      },
      "source": [
        "from sklearn.model_selection import RandomizedSearchCV\n",
        "parameter_space = {\n",
        "    'max_depth': [100, 110],\n",
        "    'min_samples_leaf': [3, 4],\n",
        "    'min_samples_split': [6, 8, 10],\n",
        "    'criterion': ['gini', 'entropy']\n",
        "}\n",
        "\n",
        "RF_tuned = RandomForestClassifier(random_state=42)\n",
        "\n",
        "RF_randsearch = RandomizedSearchCV(estimator=RF_tuned,\n",
        "                            param_distributions=parameter_space,\n",
        "                            scoring=scoring,\n",
        "                            verbose=1, n_jobs=-1,\n",
        "                            n_iter=500, refit = 'accuracy') # set refit to false for multi key scoring\n",
        "\n",
        "\n",
        "\n",
        "RF_rand_result = RF_randsearch.fit(X_train_scaled, y_train_scaled)"
      ],
      "execution_count": 60,
      "outputs": [
        {
          "output_type": "stream",
          "text": [
            "/usr/local/lib/python3.7/dist-packages/sklearn/model_selection/_search.py:281: UserWarning: The total space of parameters 24 is smaller than n_iter=500. Running 24 iterations. For exhaustive searches, use GridSearchCV.\n",
            "  % (grid_size, self.n_iter, grid_size), UserWarning)\n",
            "[Parallel(n_jobs=-1)]: Using backend LokyBackend with 2 concurrent workers.\n"
          ],
          "name": "stderr"
        },
        {
          "output_type": "stream",
          "text": [
            "Fitting 5 folds for each of 24 candidates, totalling 120 fits\n"
          ],
          "name": "stdout"
        },
        {
          "output_type": "stream",
          "text": [
            "[Parallel(n_jobs=-1)]: Done  46 tasks      | elapsed:   37.2s\n",
            "[Parallel(n_jobs=-1)]: Done 120 out of 120 | elapsed:  1.6min finished\n"
          ],
          "name": "stderr"
        }
      ]
    },
    {
      "cell_type": "code",
      "metadata": {
        "colab": {
          "base_uri": "https://localhost:8080/"
        },
        "id": "YZQWwd95mKOG",
        "outputId": "b382379e-4a59-4943-fe47-37627b696044"
      },
      "source": [
        "results = RF_rand_result.cv_results_\n",
        "dict(results).keys()"
      ],
      "execution_count": 61,
      "outputs": [
        {
          "output_type": "execute_result",
          "data": {
            "text/plain": [
              "dict_keys(['mean_fit_time', 'std_fit_time', 'mean_score_time', 'std_score_time', 'param_min_samples_split', 'param_min_samples_leaf', 'param_max_depth', 'param_criterion', 'params', 'split0_test_accuracy', 'split1_test_accuracy', 'split2_test_accuracy', 'split3_test_accuracy', 'split4_test_accuracy', 'mean_test_accuracy', 'std_test_accuracy', 'rank_test_accuracy', 'split0_test_f1', 'split1_test_f1', 'split2_test_f1', 'split3_test_f1', 'split4_test_f1', 'mean_test_f1', 'std_test_f1', 'rank_test_f1', 'split0_test_precision', 'split1_test_precision', 'split2_test_precision', 'split3_test_precision', 'split4_test_precision', 'mean_test_precision', 'std_test_precision', 'rank_test_precision', 'split0_test_recall', 'split1_test_recall', 'split2_test_recall', 'split3_test_recall', 'split4_test_recall', 'mean_test_recall', 'std_test_recall', 'rank_test_recall'])"
            ]
          },
          "metadata": {
            "tags": []
          },
          "execution_count": 61
        }
      ]
    },
    {
      "cell_type": "code",
      "metadata": {
        "colab": {
          "base_uri": "https://localhost:8080/"
        },
        "id": "L9ZGJaNsmSa5",
        "outputId": "d1ccdc32-4240-4a47-c5c0-7d7633f8e88d"
      },
      "source": [
        "print('Accuracy: ', dict(results)['mean_test_accuracy'].max())\n",
        "print('Precision: ', dict(results)['mean_test_precision'].max())\n",
        "print('Recall: ', dict(results)['mean_test_recall'].max())\n",
        "print('F1: ', dict(results)['mean_test_f1'].max())"
      ],
      "execution_count": 62,
      "outputs": [
        {
          "output_type": "stream",
          "text": [
            "Accuracy:  0.9671941332978239\n",
            "Precision:  0.9724658837883566\n",
            "Recall:  0.9942041908158716\n",
            "F1:  0.9831362063481087\n"
          ],
          "name": "stdout"
        }
      ]
    },
    {
      "cell_type": "code",
      "metadata": {
        "colab": {
          "base_uri": "https://localhost:8080/"
        },
        "id": "IyeYjN15manH",
        "outputId": "24d1177d-4279-4494-8a86-6e61f8bf57bb"
      },
      "source": [
        "RF_clf = RF_rand_result.best_estimator_\n",
        "RF_clf.fit(X_train_scaled, y_train_scaled)"
      ],
      "execution_count": 63,
      "outputs": [
        {
          "output_type": "execute_result",
          "data": {
            "text/plain": [
              "RandomForestClassifier(bootstrap=True, ccp_alpha=0.0, class_weight=None,\n",
              "                       criterion='gini', max_depth=100, max_features='auto',\n",
              "                       max_leaf_nodes=None, max_samples=None,\n",
              "                       min_impurity_decrease=0.0, min_impurity_split=None,\n",
              "                       min_samples_leaf=4, min_samples_split=10,\n",
              "                       min_weight_fraction_leaf=0.0, n_estimators=100,\n",
              "                       n_jobs=None, oob_score=False, random_state=42, verbose=0,\n",
              "                       warm_start=False)"
            ]
          },
          "metadata": {
            "tags": []
          },
          "execution_count": 63
        }
      ]
    },
    {
      "cell_type": "code",
      "metadata": {
        "id": "-z814gR3mwjj"
      },
      "source": [
        "y_hat_RF_tuned = RF_clf.predict(X_test_scaled)"
      ],
      "execution_count": 64,
      "outputs": []
    },
    {
      "cell_type": "code",
      "metadata": {
        "colab": {
          "base_uri": "https://localhost:8080/",
          "height": 524
        },
        "id": "M2ZDLnkbnCjv",
        "outputId": "ae00ea13-9015-40a8-8121-4867828ae050"
      },
      "source": [
        "performance_metrics(RF_clf, X_test_scaled, y_test_scaled, y_hat_RF_tuned)"
      ],
      "execution_count": 65,
      "outputs": [
        {
          "output_type": "stream",
          "text": [
            "Accuracy:  96.67833916958479 %\n",
            "Root Mean Squared Error:  0.1822542408399653\n",
            "Balanced Accuracy:  59.20316882586473 %\n",
            "Jaccard Score:  93.6417697618546 %\n",
            "F1 Score:  0.9829883172781307\n",
            "True Negatives (Correctly Predicted Death):  71\n",
            "False Negatives (Incorrectly Predicted as Death):  22\n",
            "True Positives (Correctly Predicted as Alive):  9592\n",
            "False Positives (Incorrectly Predicted as Alive):  310\n",
            "Sensitivty (Recall/True Positive Rate):  0.9977116704805492\n",
            "False Positive Rate:  0.8136482939632546\n",
            "Specificity:  0.18635170603674542\n",
            "Positive Predictive Value (Precision):  0.9686931932942839\n",
            "Negative Predictive Value:  0.7634408602150538\n"
          ],
          "name": "stdout"
        },
        {
          "output_type": "display_data",
          "data": {
            "image/png": "[encoded data removed]",
            "text/plain": [
              "<Figure size 432x288 with 1 Axes>"
            ]
          },
          "metadata": {
            "tags": [],
            "needs_background": "light"
          }
        }
      ]
    },
    {
      "cell_type": "markdown",
      "metadata": {
        "id": "3zNJfyJfGDVX"
      },
      "source": [
        "---"
      ]
    },
    {
      "cell_type": "markdown",
      "metadata": {
        "id": "bCA-FcylOQb1"
      },
      "source": [
        "# Stochastic Gradient Descent"
      ]
    },
    {
      "cell_type": "code",
      "metadata": {
        "id": "sF92z8z_OPwI"
      },
      "source": [
        "from sklearn.linear_model import SGDClassifier"
      ],
      "execution_count": 66,
      "outputs": []
    },
    {
      "cell_type": "code",
      "metadata": {
        "colab": {
          "base_uri": "https://localhost:8080/"
        },
        "id": "fEoNl0ZbO3Sz",
        "outputId": "07c47dae-eafb-4017-cab8-233bd7c46fd0"
      },
      "source": [
        "from sklearn.model_selection import cross_val_score, cross_validate\n",
        "scoring = ['accuracy', 'f1', 'precision', 'recall']\n",
        "SGD_basemodel = SGDClassifier(random_state=42)\n",
        "\n",
        "# scores = cross_val_score(SGD_basemodel, X_train_scaled, y_train_scaled, cv = 5)\n",
        "# print(f'{scores.mean()*100}% accuracy with a standard deviation of {scores.std()}')\n",
        "\n",
        "scores = cross_validate(SGD_basemodel, X_train_scaled, y_train_scaled,scoring=scoring)\n",
        "sorted(scores.keys())"
      ],
      "execution_count": 67,
      "outputs": [
        {
          "output_type": "execute_result",
          "data": {
            "text/plain": [
              "['fit_time',\n",
              " 'score_time',\n",
              " 'test_accuracy',\n",
              " 'test_f1',\n",
              " 'test_precision',\n",
              " 'test_recall']"
            ]
          },
          "metadata": {
            "tags": []
          },
          "execution_count": 67
        }
      ]
    },
    {
      "cell_type": "code",
      "metadata": {
        "colab": {
          "base_uri": "https://localhost:8080/"
        },
        "id": "4PmRCLNPjOUw",
        "outputId": "8bfe0f05-40a2-468c-9744-00f9ab5c14b2"
      },
      "source": [
        "print('Average Accuracy:', scores['test_accuracy'].mean())\n",
        "print('Average F1:', scores['test_f1'].mean())\n",
        "print('Average Precision:', scores['test_precision'].mean())\n",
        "print('Average Recall:', scores['test_recall'].mean())"
      ],
      "execution_count": 68,
      "outputs": [
        {
          "output_type": "stream",
          "text": [
            "Average Accuracy: 0.9632917930984\n",
            "Average F1: 0.9812670065072855\n",
            "Average Precision: 0.963679277897654\n",
            "Average Recall: 0.9995095853767276\n"
          ],
          "name": "stdout"
        }
      ]
    },
    {
      "cell_type": "code",
      "metadata": {
        "id": "Y-xK7N4qPv94"
      },
      "source": [
        "SGD_basemodel.fit(X_train_scaled, y_train_scaled)\n",
        "# SGD_basemodel = scores.best_estimator_\n",
        "y_hat_SGD_scaled = SGD_basemodel.predict(X_test_scaled)"
      ],
      "execution_count": 69,
      "outputs": []
    },
    {
      "cell_type": "code",
      "metadata": {
        "colab": {
          "base_uri": "https://localhost:8080/",
          "height": 524
        },
        "id": "b8ubbY8VPgc-",
        "outputId": "652ff36f-f826-4341-9a0d-957ddec68e8c"
      },
      "source": [
        "performance_metrics(SGD_basemodel, X_test_scaled, y_test_scaled, y_hat_SGD_scaled)"
      ],
      "execution_count": 86,
      "outputs": [
        {
          "output_type": "stream",
          "text": [
            "Accuracy:  96.43821910955478 %\n",
            "Root Mean Squared Error:  0.18872681024288052\n",
            "Balanced Accuracy:  53.40687274190581 %\n",
            "Jaccard Score:  93.0125986673499 %\n",
            "F1 Score:  0.9818200388111531\n",
            "True Negatives (Correctly Predicted Death):  26\n",
            "False Negatives (Incorrectly Predicted as Death):  1\n",
            "True Positives (Correctly Predicted as Alive):  9613\n",
            "False Positives (Incorrectly Predicted as Alive):  355\n",
            "Sensitivty (Recall/True Positive Rate):  0.9998959850218432\n",
            "False Positive Rate:  0.931758530183727\n",
            "Specificity:  0.06824146981627296\n",
            "Positive Predictive Value (Precision):  0.9643860353130016\n",
            "Negative Predictive Value:  0.9629629629629629\n"
          ],
          "name": "stdout"
        },
        {
          "output_type": "display_data",
          "data": {
            "image/png": "[encoded data removed]",
            "text/plain": [
              "<Figure size 432x288 with 1 Axes>"
            ]
          },
          "metadata": {
            "tags": [],
            "needs_background": "light"
          }
        }
      ]
    },
    {
      "cell_type": "code",
      "metadata": {
        "colab": {
          "base_uri": "https://localhost:8080/"
        },
        "id": "0v24zHAlLYfU",
        "outputId": "ee256781-964d-4a96-debb-ade6de1f8d76"
      },
      "source": [
        "from sklearn.model_selection import RandomizedSearchCV\n",
        "parameter_space = {\n",
        "    'loss': ['hinge', 'log', 'modified_huber', 'squared_hinge', 'perceptron'],\n",
        "    'penalty': ['l1', 'l2', 'elasticnet'],\n",
        "    'alpha': [0.0001, 0.001, 0.01, 0.1, 1, 10, 100, 1000],\n",
        "    'learning_rate': ['constant', 'optimal', 'invscaling', 'adaptive'],\n",
        "    'class_weight': [{1:0.5, 0:0.5}, {1:0.4, 0:0.6}, {1:0.6, 0:0.4}, {1:0.7, 0:0.3}],\n",
        "    'eta0': [1, 10, 100],\n",
        "}\n",
        "\n",
        "SGD_tuned = SGDClassifier(random_state=42)\n",
        "\n",
        "SGD_randsearch = RandomizedSearchCV(estimator=SGD_tuned,\n",
        "                            param_distributions=parameter_space,\n",
        "                            scoring=scoring,\n",
        "                            verbose=1, n_jobs=-1,\n",
        "                            n_iter=1000, refit = 'accuracy') # set refit to false for multi key scoring\n",
        "\n",
        "SGD_Xtrain = X_train.drop(columns=['sex'])\n",
        "\n",
        "\n",
        "SGD_rand_result = SGD_randsearch.fit(X_train_scaled, y_train_scaled)"
      ],
      "execution_count": 71,
      "outputs": [
        {
          "output_type": "stream",
          "text": [
            "Fitting 5 folds for each of 1000 candidates, totalling 5000 fits\n"
          ],
          "name": "stdout"
        },
        {
          "output_type": "stream",
          "text": [
            "[Parallel(n_jobs=-1)]: Using backend LokyBackend with 2 concurrent workers.\n",
            "[Parallel(n_jobs=-1)]: Done 164 tasks      | elapsed:    9.5s\n",
            "[Parallel(n_jobs=-1)]: Done 468 tasks      | elapsed:   27.5s\n",
            "[Parallel(n_jobs=-1)]: Done 968 tasks      | elapsed:   59.6s\n",
            "[Parallel(n_jobs=-1)]: Done 1908 tasks      | elapsed:  2.2min\n",
            "[Parallel(n_jobs=-1)]: Done 2810 tasks      | elapsed:  3.2min\n",
            "[Parallel(n_jobs=-1)]: Done 4066 tasks      | elapsed:  4.5min\n",
            "[Parallel(n_jobs=-1)]: Done 4997 out of 5000 | elapsed:  5.4min remaining:    0.2s\n",
            "[Parallel(n_jobs=-1)]: Done 5000 out of 5000 | elapsed:  5.4min finished\n"
          ],
          "name": "stderr"
        }
      ]
    },
    {
      "cell_type": "code",
      "metadata": {
        "id": "OCvm3JBQPLYk"
      },
      "source": [
        "results = SGD_rand_result.cv_results_"
      ],
      "execution_count": 74,
      "outputs": []
    },
    {
      "cell_type": "code",
      "metadata": {
        "colab": {
          "base_uri": "https://localhost:8080/"
        },
        "id": "L6wCAFHSpA8C",
        "outputId": "4c5a6c24-608d-412c-9f50-ad9333c77b9a"
      },
      "source": [
        "dict(results).keys()"
      ],
      "execution_count": 75,
      "outputs": [
        {
          "output_type": "execute_result",
          "data": {
            "text/plain": [
              "dict_keys(['mean_fit_time', 'std_fit_time', 'mean_score_time', 'std_score_time', 'param_penalty', 'param_loss', 'param_learning_rate', 'param_eta0', 'param_class_weight', 'param_alpha', 'params', 'split0_test_accuracy', 'split1_test_accuracy', 'split2_test_accuracy', 'split3_test_accuracy', 'split4_test_accuracy', 'mean_test_accuracy', 'std_test_accuracy', 'rank_test_accuracy', 'split0_test_f1', 'split1_test_f1', 'split2_test_f1', 'split3_test_f1', 'split4_test_f1', 'mean_test_f1', 'std_test_f1', 'rank_test_f1', 'split0_test_precision', 'split1_test_precision', 'split2_test_precision', 'split3_test_precision', 'split4_test_precision', 'mean_test_precision', 'std_test_precision', 'rank_test_precision', 'split0_test_recall', 'split1_test_recall', 'split2_test_recall', 'split3_test_recall', 'split4_test_recall', 'mean_test_recall', 'std_test_recall', 'rank_test_recall'])"
            ]
          },
          "metadata": {
            "tags": []
          },
          "execution_count": 75
        }
      ]
    },
    {
      "cell_type": "code",
      "metadata": {
        "colab": {
          "base_uri": "https://localhost:8080/"
        },
        "id": "QJxhBapVpwbw",
        "outputId": "50268cb0-b7eb-4b82-a2af-15b60f1f5244"
      },
      "source": [
        "print('Accuracy: ', dict(results)['mean_test_accuracy'].max())\n",
        "print('Precision: ', dict(results)['mean_test_precision'].max())\n",
        "print('Recall: ', dict(results)['mean_test_recall'].max())\n",
        "print('F1: ', dict(results)['mean_test_f1'].max())"
      ],
      "execution_count": 76,
      "outputs": [
        {
          "output_type": "stream",
          "text": [
            "Accuracy:  0.9647068230649737\n",
            "Precision:  0.9784834286430109\n",
            "Recall:  1.0\n",
            "F1:  0.9819371065728723\n"
          ],
          "name": "stdout"
        }
      ]
    },
    {
      "cell_type": "code",
      "metadata": {
        "colab": {
          "base_uri": "https://localhost:8080/"
        },
        "id": "Oxm6aFSy9y3H",
        "outputId": "b12f546b-98ac-4162-8fa4-2d74520bfe84"
      },
      "source": [
        "SGD_rand_result.best_params_"
      ],
      "execution_count": 77,
      "outputs": [
        {
          "output_type": "execute_result",
          "data": {
            "text/plain": [
              "{'alpha': 0.001,\n",
              " 'class_weight': {0: 0.5, 1: 0.5},\n",
              " 'eta0': 100,\n",
              " 'learning_rate': 'adaptive',\n",
              " 'loss': 'log',\n",
              " 'penalty': 'l2'}"
            ]
          },
          "metadata": {
            "tags": []
          },
          "execution_count": 77
        }
      ]
    },
    {
      "cell_type": "code",
      "metadata": {
        "id": "y4_x_sOov5k0"
      },
      "source": [
        "SGD_clf = SGD_rand_result.best_estimator_\n",
        "# SGD_clf = SGDClassifier(**SGD_rand_result.best_params_)"
      ],
      "execution_count": 78,
      "outputs": []
    },
    {
      "cell_type": "code",
      "metadata": {
        "id": "LyyG7UkXwIB0"
      },
      "source": [
        "SGD_clf.fit(X_train_scaled, y_train_scaled)\n",
        "y_hat_SGD_tuned = SGD_clf.predict(X_test_scaled)"
      ],
      "execution_count": 79,
      "outputs": []
    },
    {
      "cell_type": "code",
      "metadata": {
        "colab": {
          "base_uri": "https://localhost:8080/",
          "height": 524
        },
        "id": "pVF_pe3Vwh_g",
        "outputId": "f9f78e97-c40a-4867-e865-a07546cc9293"
      },
      "source": [
        "performance_metrics(SGD_clf, X_test_scaled, y_test_scaled, y_hat_SGD_tuned)"
      ],
      "execution_count": 87,
      "outputs": [
        {
          "output_type": "stream",
          "text": [
            "Accuracy:  96.64832416208104 %\n",
            "Root Mean Squared Error:  0.1830758268564957\n",
            "Balanced Accuracy:  58.30533665089243 %\n",
            "Jaccard Score:  93.55483807515881 %\n",
            "F1 Score:  0.9828442669124801\n",
            "True Negatives (Correctly Predicted Death):  64\n",
            "False Negatives (Incorrectly Predicted as Death):  18\n",
            "True Positives (Correctly Predicted as Alive):  9596\n",
            "False Positives (Incorrectly Predicted as Alive):  317\n",
            "Sensitivty (Recall/True Positive Rate):  0.9981277303931766\n",
            "False Positive Rate:  0.8320209973753281\n",
            "Specificity:  0.1679790026246719\n",
            "Positive Predictive Value (Precision):  0.9680217895692524\n",
            "Negative Predictive Value:  0.7804878048780488\n"
          ],
          "name": "stdout"
        },
        {
          "output_type": "display_data",
          "data": {
            "image/png": "[encoded data removed]",
            "text/plain": [
              "<Figure size 432x288 with 1 Axes>"
            ]
          },
          "metadata": {
            "tags": [],
            "needs_background": "light"
          }
        }
      ]
    }
  ]
}